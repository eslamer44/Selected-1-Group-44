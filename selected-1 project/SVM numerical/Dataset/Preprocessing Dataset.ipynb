{
 "cells": [
  {
   "cell_type": "markdown",
   "id": "bc78848e",
   "metadata": {},
   "source": [
    "## online shoppers intention Dataset preprocessing\n",
    "\n",
    "### \tNumber of classes and their labels \n",
    "#### 17 class [\tAdministrative , Administrative_Duration , Informational , Informational_Duration , ProductRelated,  ProductRelated_Duration , \tBounceRates , ExitRates\t, PageValues\t,    SpecialDay  , \tMonth\t,  OperatingSystems\t, Browser\t,  Region  ,   TrafficType , \tVisitorType , \tWeekend\t]\n",
    "\n",
    "#### Label :- Revenue\n",
    "\n",
    "### Dataset Samples Numbers 12330 sample\n",
    "\n"
   ]
  },
  {
   "cell_type": "code",
   "execution_count": 1,
   "id": "c0abf334",
   "metadata": {},
   "outputs": [],
   "source": [
    "#Import the important libraries\n",
    "import keras\n",
    "from keras.models import Sequential\n",
    "from keras.layers import Dense, Dropout\n",
    "import numpy as np\n",
    "import pandas as pd\n",
    "import matplotlib.pyplot as plt\n",
    "from sklearn.model_selection import train_test_split"
   ]
  },
  {
   "cell_type": "code",
   "execution_count": 2,
   "id": "7f15bd91",
   "metadata": {},
   "outputs": [
    {
     "data": {
      "text/html": [
       "<div>\n",
       "<style scoped>\n",
       "    .dataframe tbody tr th:only-of-type {\n",
       "        vertical-align: middle;\n",
       "    }\n",
       "\n",
       "    .dataframe tbody tr th {\n",
       "        vertical-align: top;\n",
       "    }\n",
       "\n",
       "    .dataframe thead th {\n",
       "        text-align: right;\n",
       "    }\n",
       "</style>\n",
       "<table border=\"1\" class=\"dataframe\">\n",
       "  <thead>\n",
       "    <tr style=\"text-align: right;\">\n",
       "      <th></th>\n",
       "      <th>Administrative</th>\n",
       "      <th>Administrative_Duration</th>\n",
       "      <th>Informational</th>\n",
       "      <th>Informational_Duration</th>\n",
       "      <th>ProductRelated</th>\n",
       "      <th>ProductRelated_Duration</th>\n",
       "      <th>BounceRates</th>\n",
       "      <th>ExitRates</th>\n",
       "      <th>PageValues</th>\n",
       "      <th>SpecialDay</th>\n",
       "      <th>Month</th>\n",
       "      <th>OperatingSystems</th>\n",
       "      <th>Browser</th>\n",
       "      <th>Region</th>\n",
       "      <th>TrafficType</th>\n",
       "      <th>VisitorType</th>\n",
       "      <th>Weekend</th>\n",
       "      <th>Revenue</th>\n",
       "    </tr>\n",
       "  </thead>\n",
       "  <tbody>\n",
       "    <tr>\n",
       "      <th>0</th>\n",
       "      <td>0</td>\n",
       "      <td>0.0</td>\n",
       "      <td>0</td>\n",
       "      <td>0.0</td>\n",
       "      <td>1</td>\n",
       "      <td>0.000000</td>\n",
       "      <td>0.20</td>\n",
       "      <td>0.20</td>\n",
       "      <td>0.0</td>\n",
       "      <td>0.0</td>\n",
       "      <td>Feb</td>\n",
       "      <td>1</td>\n",
       "      <td>1</td>\n",
       "      <td>1</td>\n",
       "      <td>1</td>\n",
       "      <td>Returning_Visitor</td>\n",
       "      <td>False</td>\n",
       "      <td>False</td>\n",
       "    </tr>\n",
       "    <tr>\n",
       "      <th>1</th>\n",
       "      <td>0</td>\n",
       "      <td>0.0</td>\n",
       "      <td>0</td>\n",
       "      <td>0.0</td>\n",
       "      <td>2</td>\n",
       "      <td>64.000000</td>\n",
       "      <td>0.00</td>\n",
       "      <td>0.10</td>\n",
       "      <td>0.0</td>\n",
       "      <td>0.0</td>\n",
       "      <td>Feb</td>\n",
       "      <td>2</td>\n",
       "      <td>2</td>\n",
       "      <td>1</td>\n",
       "      <td>2</td>\n",
       "      <td>Returning_Visitor</td>\n",
       "      <td>False</td>\n",
       "      <td>False</td>\n",
       "    </tr>\n",
       "    <tr>\n",
       "      <th>2</th>\n",
       "      <td>0</td>\n",
       "      <td>0.0</td>\n",
       "      <td>0</td>\n",
       "      <td>0.0</td>\n",
       "      <td>1</td>\n",
       "      <td>0.000000</td>\n",
       "      <td>0.20</td>\n",
       "      <td>0.20</td>\n",
       "      <td>0.0</td>\n",
       "      <td>0.0</td>\n",
       "      <td>Feb</td>\n",
       "      <td>4</td>\n",
       "      <td>1</td>\n",
       "      <td>9</td>\n",
       "      <td>3</td>\n",
       "      <td>Returning_Visitor</td>\n",
       "      <td>False</td>\n",
       "      <td>False</td>\n",
       "    </tr>\n",
       "    <tr>\n",
       "      <th>3</th>\n",
       "      <td>0</td>\n",
       "      <td>0.0</td>\n",
       "      <td>0</td>\n",
       "      <td>0.0</td>\n",
       "      <td>2</td>\n",
       "      <td>2.666667</td>\n",
       "      <td>0.05</td>\n",
       "      <td>0.14</td>\n",
       "      <td>0.0</td>\n",
       "      <td>0.0</td>\n",
       "      <td>Feb</td>\n",
       "      <td>3</td>\n",
       "      <td>2</td>\n",
       "      <td>2</td>\n",
       "      <td>4</td>\n",
       "      <td>Returning_Visitor</td>\n",
       "      <td>False</td>\n",
       "      <td>False</td>\n",
       "    </tr>\n",
       "    <tr>\n",
       "      <th>4</th>\n",
       "      <td>0</td>\n",
       "      <td>0.0</td>\n",
       "      <td>0</td>\n",
       "      <td>0.0</td>\n",
       "      <td>10</td>\n",
       "      <td>627.500000</td>\n",
       "      <td>0.02</td>\n",
       "      <td>0.05</td>\n",
       "      <td>0.0</td>\n",
       "      <td>0.0</td>\n",
       "      <td>Feb</td>\n",
       "      <td>3</td>\n",
       "      <td>3</td>\n",
       "      <td>1</td>\n",
       "      <td>4</td>\n",
       "      <td>Returning_Visitor</td>\n",
       "      <td>True</td>\n",
       "      <td>False</td>\n",
       "    </tr>\n",
       "  </tbody>\n",
       "</table>\n",
       "</div>"
      ],
      "text/plain": [
       "   Administrative  Administrative_Duration  Informational  \\\n",
       "0               0                      0.0              0   \n",
       "1               0                      0.0              0   \n",
       "2               0                      0.0              0   \n",
       "3               0                      0.0              0   \n",
       "4               0                      0.0              0   \n",
       "\n",
       "   Informational_Duration  ProductRelated  ProductRelated_Duration  \\\n",
       "0                     0.0               1                 0.000000   \n",
       "1                     0.0               2                64.000000   \n",
       "2                     0.0               1                 0.000000   \n",
       "3                     0.0               2                 2.666667   \n",
       "4                     0.0              10               627.500000   \n",
       "\n",
       "   BounceRates  ExitRates  PageValues  SpecialDay Month  OperatingSystems  \\\n",
       "0         0.20       0.20         0.0         0.0   Feb                 1   \n",
       "1         0.00       0.10         0.0         0.0   Feb                 2   \n",
       "2         0.20       0.20         0.0         0.0   Feb                 4   \n",
       "3         0.05       0.14         0.0         0.0   Feb                 3   \n",
       "4         0.02       0.05         0.0         0.0   Feb                 3   \n",
       "\n",
       "   Browser  Region  TrafficType        VisitorType  Weekend  Revenue  \n",
       "0        1       1            1  Returning_Visitor    False    False  \n",
       "1        2       1            2  Returning_Visitor    False    False  \n",
       "2        1       9            3  Returning_Visitor    False    False  \n",
       "3        2       2            4  Returning_Visitor    False    False  \n",
       "4        3       1            4  Returning_Visitor     True    False  "
      ]
     },
     "execution_count": 2,
     "metadata": {},
     "output_type": "execute_result"
    }
   ],
   "source": [
    "dataset=pd.read_csv('D:/Faaclty/level 3/selcted-1/ANN Algorithm(numerical)/Dataset/online_shoppers_intention.csv')\n",
    "dataset.head()"
   ]
  },
  {
   "cell_type": "markdown",
   "id": "526657d6",
   "metadata": {},
   "source": [
    "### Replace any True value with 1 and any false value with 0\n"
   ]
  },
  {
   "cell_type": "code",
   "execution_count": 3,
   "id": "5e7721d8",
   "metadata": {},
   "outputs": [
    {
     "data": {
      "text/plain": [
       "array([False,  True])"
      ]
     },
     "execution_count": 3,
     "metadata": {},
     "output_type": "execute_result"
    }
   ],
   "source": [
    "dataset['Revenue'].unique()"
   ]
  },
  {
   "cell_type": "code",
   "execution_count": 4,
   "id": "58c22d6c",
   "metadata": {},
   "outputs": [
    {
     "data": {
      "text/plain": [
       "array([False,  True])"
      ]
     },
     "execution_count": 4,
     "metadata": {},
     "output_type": "execute_result"
    }
   ],
   "source": [
    "dataset['Weekend'].unique()"
   ]
  },
  {
   "cell_type": "code",
   "execution_count": 5,
   "id": "744d6235",
   "metadata": {},
   "outputs": [],
   "source": [
    "dataset['Revenue'] = dataset['Revenue'].replace(False, 0)\n",
    "dataset['Revenue'] = dataset['Revenue'].replace(True, 1)\n",
    "\n",
    "dataset['Weekend'] = dataset['Weekend'].replace(False, 0)\n",
    "dataset['Weekend'] = dataset['Weekend'].replace(True, 1)"
   ]
  },
  {
   "cell_type": "code",
   "execution_count": 6,
   "id": "a431335e",
   "metadata": {},
   "outputs": [
    {
     "data": {
      "text/plain": [
       "array([0, 1], dtype=int64)"
      ]
     },
     "execution_count": 6,
     "metadata": {},
     "output_type": "execute_result"
    }
   ],
   "source": [
    "dataset['Revenue'].unique()"
   ]
  },
  {
   "cell_type": "code",
   "execution_count": 7,
   "id": "78e3b644",
   "metadata": {},
   "outputs": [
    {
     "data": {
      "text/plain": [
       "array([0, 1], dtype=int64)"
      ]
     },
     "execution_count": 7,
     "metadata": {},
     "output_type": "execute_result"
    }
   ],
   "source": [
    "dataset['Weekend'].unique()"
   ]
  },
  {
   "cell_type": "code",
   "execution_count": 8,
   "id": "76a447b5",
   "metadata": {},
   "outputs": [
    {
     "data": {
      "text/html": [
       "<div>\n",
       "<style scoped>\n",
       "    .dataframe tbody tr th:only-of-type {\n",
       "        vertical-align: middle;\n",
       "    }\n",
       "\n",
       "    .dataframe tbody tr th {\n",
       "        vertical-align: top;\n",
       "    }\n",
       "\n",
       "    .dataframe thead th {\n",
       "        text-align: right;\n",
       "    }\n",
       "</style>\n",
       "<table border=\"1\" class=\"dataframe\">\n",
       "  <thead>\n",
       "    <tr style=\"text-align: right;\">\n",
       "      <th></th>\n",
       "      <th>Administrative</th>\n",
       "      <th>Administrative_Duration</th>\n",
       "      <th>Informational</th>\n",
       "      <th>Informational_Duration</th>\n",
       "      <th>ProductRelated</th>\n",
       "      <th>ProductRelated_Duration</th>\n",
       "      <th>BounceRates</th>\n",
       "      <th>ExitRates</th>\n",
       "      <th>PageValues</th>\n",
       "      <th>SpecialDay</th>\n",
       "      <th>Month</th>\n",
       "      <th>OperatingSystems</th>\n",
       "      <th>Browser</th>\n",
       "      <th>Region</th>\n",
       "      <th>TrafficType</th>\n",
       "      <th>VisitorType</th>\n",
       "      <th>Weekend</th>\n",
       "      <th>Revenue</th>\n",
       "    </tr>\n",
       "  </thead>\n",
       "  <tbody>\n",
       "    <tr>\n",
       "      <th>0</th>\n",
       "      <td>0</td>\n",
       "      <td>0.0</td>\n",
       "      <td>0</td>\n",
       "      <td>0.0</td>\n",
       "      <td>1</td>\n",
       "      <td>0.000000</td>\n",
       "      <td>0.20</td>\n",
       "      <td>0.20</td>\n",
       "      <td>0.0</td>\n",
       "      <td>0.0</td>\n",
       "      <td>Feb</td>\n",
       "      <td>1</td>\n",
       "      <td>1</td>\n",
       "      <td>1</td>\n",
       "      <td>1</td>\n",
       "      <td>Returning_Visitor</td>\n",
       "      <td>0</td>\n",
       "      <td>0</td>\n",
       "    </tr>\n",
       "    <tr>\n",
       "      <th>1</th>\n",
       "      <td>0</td>\n",
       "      <td>0.0</td>\n",
       "      <td>0</td>\n",
       "      <td>0.0</td>\n",
       "      <td>2</td>\n",
       "      <td>64.000000</td>\n",
       "      <td>0.00</td>\n",
       "      <td>0.10</td>\n",
       "      <td>0.0</td>\n",
       "      <td>0.0</td>\n",
       "      <td>Feb</td>\n",
       "      <td>2</td>\n",
       "      <td>2</td>\n",
       "      <td>1</td>\n",
       "      <td>2</td>\n",
       "      <td>Returning_Visitor</td>\n",
       "      <td>0</td>\n",
       "      <td>0</td>\n",
       "    </tr>\n",
       "    <tr>\n",
       "      <th>2</th>\n",
       "      <td>0</td>\n",
       "      <td>0.0</td>\n",
       "      <td>0</td>\n",
       "      <td>0.0</td>\n",
       "      <td>1</td>\n",
       "      <td>0.000000</td>\n",
       "      <td>0.20</td>\n",
       "      <td>0.20</td>\n",
       "      <td>0.0</td>\n",
       "      <td>0.0</td>\n",
       "      <td>Feb</td>\n",
       "      <td>4</td>\n",
       "      <td>1</td>\n",
       "      <td>9</td>\n",
       "      <td>3</td>\n",
       "      <td>Returning_Visitor</td>\n",
       "      <td>0</td>\n",
       "      <td>0</td>\n",
       "    </tr>\n",
       "    <tr>\n",
       "      <th>3</th>\n",
       "      <td>0</td>\n",
       "      <td>0.0</td>\n",
       "      <td>0</td>\n",
       "      <td>0.0</td>\n",
       "      <td>2</td>\n",
       "      <td>2.666667</td>\n",
       "      <td>0.05</td>\n",
       "      <td>0.14</td>\n",
       "      <td>0.0</td>\n",
       "      <td>0.0</td>\n",
       "      <td>Feb</td>\n",
       "      <td>3</td>\n",
       "      <td>2</td>\n",
       "      <td>2</td>\n",
       "      <td>4</td>\n",
       "      <td>Returning_Visitor</td>\n",
       "      <td>0</td>\n",
       "      <td>0</td>\n",
       "    </tr>\n",
       "    <tr>\n",
       "      <th>4</th>\n",
       "      <td>0</td>\n",
       "      <td>0.0</td>\n",
       "      <td>0</td>\n",
       "      <td>0.0</td>\n",
       "      <td>10</td>\n",
       "      <td>627.500000</td>\n",
       "      <td>0.02</td>\n",
       "      <td>0.05</td>\n",
       "      <td>0.0</td>\n",
       "      <td>0.0</td>\n",
       "      <td>Feb</td>\n",
       "      <td>3</td>\n",
       "      <td>3</td>\n",
       "      <td>1</td>\n",
       "      <td>4</td>\n",
       "      <td>Returning_Visitor</td>\n",
       "      <td>1</td>\n",
       "      <td>0</td>\n",
       "    </tr>\n",
       "  </tbody>\n",
       "</table>\n",
       "</div>"
      ],
      "text/plain": [
       "   Administrative  Administrative_Duration  Informational  \\\n",
       "0               0                      0.0              0   \n",
       "1               0                      0.0              0   \n",
       "2               0                      0.0              0   \n",
       "3               0                      0.0              0   \n",
       "4               0                      0.0              0   \n",
       "\n",
       "   Informational_Duration  ProductRelated  ProductRelated_Duration  \\\n",
       "0                     0.0               1                 0.000000   \n",
       "1                     0.0               2                64.000000   \n",
       "2                     0.0               1                 0.000000   \n",
       "3                     0.0               2                 2.666667   \n",
       "4                     0.0              10               627.500000   \n",
       "\n",
       "   BounceRates  ExitRates  PageValues  SpecialDay Month  OperatingSystems  \\\n",
       "0         0.20       0.20         0.0         0.0   Feb                 1   \n",
       "1         0.00       0.10         0.0         0.0   Feb                 2   \n",
       "2         0.20       0.20         0.0         0.0   Feb                 4   \n",
       "3         0.05       0.14         0.0         0.0   Feb                 3   \n",
       "4         0.02       0.05         0.0         0.0   Feb                 3   \n",
       "\n",
       "   Browser  Region  TrafficType        VisitorType  Weekend  Revenue  \n",
       "0        1       1            1  Returning_Visitor        0        0  \n",
       "1        2       1            2  Returning_Visitor        0        0  \n",
       "2        1       9            3  Returning_Visitor        0        0  \n",
       "3        2       2            4  Returning_Visitor        0        0  \n",
       "4        3       1            4  Returning_Visitor        1        0  "
      ]
     },
     "execution_count": 8,
     "metadata": {},
     "output_type": "execute_result"
    }
   ],
   "source": [
    "dataset.head()"
   ]
  },
  {
   "cell_type": "markdown",
   "id": "903d957a",
   "metadata": {},
   "source": [
    "### Remove any columns do not related with machine learning model target"
   ]
  },
  {
   "cell_type": "code",
   "execution_count": 9,
   "id": "20c12f27",
   "metadata": {},
   "outputs": [
    {
     "data": {
      "text/html": [
       "<div>\n",
       "<style scoped>\n",
       "    .dataframe tbody tr th:only-of-type {\n",
       "        vertical-align: middle;\n",
       "    }\n",
       "\n",
       "    .dataframe tbody tr th {\n",
       "        vertical-align: top;\n",
       "    }\n",
       "\n",
       "    .dataframe thead th {\n",
       "        text-align: right;\n",
       "    }\n",
       "</style>\n",
       "<table border=\"1\" class=\"dataframe\">\n",
       "  <thead>\n",
       "    <tr style=\"text-align: right;\">\n",
       "      <th></th>\n",
       "      <th>Administrative</th>\n",
       "      <th>Administrative_Duration</th>\n",
       "      <th>Informational</th>\n",
       "      <th>Informational_Duration</th>\n",
       "      <th>ProductRelated</th>\n",
       "      <th>ProductRelated_Duration</th>\n",
       "      <th>BounceRates</th>\n",
       "      <th>ExitRates</th>\n",
       "      <th>PageValues</th>\n",
       "      <th>SpecialDay</th>\n",
       "      <th>VisitorType</th>\n",
       "      <th>Weekend</th>\n",
       "      <th>Revenue</th>\n",
       "    </tr>\n",
       "  </thead>\n",
       "  <tbody>\n",
       "    <tr>\n",
       "      <th>0</th>\n",
       "      <td>0</td>\n",
       "      <td>0.0</td>\n",
       "      <td>0</td>\n",
       "      <td>0.0</td>\n",
       "      <td>1</td>\n",
       "      <td>0.000000</td>\n",
       "      <td>0.20</td>\n",
       "      <td>0.20</td>\n",
       "      <td>0.0</td>\n",
       "      <td>0.0</td>\n",
       "      <td>Returning_Visitor</td>\n",
       "      <td>0</td>\n",
       "      <td>0</td>\n",
       "    </tr>\n",
       "    <tr>\n",
       "      <th>1</th>\n",
       "      <td>0</td>\n",
       "      <td>0.0</td>\n",
       "      <td>0</td>\n",
       "      <td>0.0</td>\n",
       "      <td>2</td>\n",
       "      <td>64.000000</td>\n",
       "      <td>0.00</td>\n",
       "      <td>0.10</td>\n",
       "      <td>0.0</td>\n",
       "      <td>0.0</td>\n",
       "      <td>Returning_Visitor</td>\n",
       "      <td>0</td>\n",
       "      <td>0</td>\n",
       "    </tr>\n",
       "    <tr>\n",
       "      <th>2</th>\n",
       "      <td>0</td>\n",
       "      <td>0.0</td>\n",
       "      <td>0</td>\n",
       "      <td>0.0</td>\n",
       "      <td>1</td>\n",
       "      <td>0.000000</td>\n",
       "      <td>0.20</td>\n",
       "      <td>0.20</td>\n",
       "      <td>0.0</td>\n",
       "      <td>0.0</td>\n",
       "      <td>Returning_Visitor</td>\n",
       "      <td>0</td>\n",
       "      <td>0</td>\n",
       "    </tr>\n",
       "    <tr>\n",
       "      <th>3</th>\n",
       "      <td>0</td>\n",
       "      <td>0.0</td>\n",
       "      <td>0</td>\n",
       "      <td>0.0</td>\n",
       "      <td>2</td>\n",
       "      <td>2.666667</td>\n",
       "      <td>0.05</td>\n",
       "      <td>0.14</td>\n",
       "      <td>0.0</td>\n",
       "      <td>0.0</td>\n",
       "      <td>Returning_Visitor</td>\n",
       "      <td>0</td>\n",
       "      <td>0</td>\n",
       "    </tr>\n",
       "    <tr>\n",
       "      <th>4</th>\n",
       "      <td>0</td>\n",
       "      <td>0.0</td>\n",
       "      <td>0</td>\n",
       "      <td>0.0</td>\n",
       "      <td>10</td>\n",
       "      <td>627.500000</td>\n",
       "      <td>0.02</td>\n",
       "      <td>0.05</td>\n",
       "      <td>0.0</td>\n",
       "      <td>0.0</td>\n",
       "      <td>Returning_Visitor</td>\n",
       "      <td>1</td>\n",
       "      <td>0</td>\n",
       "    </tr>\n",
       "  </tbody>\n",
       "</table>\n",
       "</div>"
      ],
      "text/plain": [
       "   Administrative  Administrative_Duration  Informational  \\\n",
       "0               0                      0.0              0   \n",
       "1               0                      0.0              0   \n",
       "2               0                      0.0              0   \n",
       "3               0                      0.0              0   \n",
       "4               0                      0.0              0   \n",
       "\n",
       "   Informational_Duration  ProductRelated  ProductRelated_Duration  \\\n",
       "0                     0.0               1                 0.000000   \n",
       "1                     0.0               2                64.000000   \n",
       "2                     0.0               1                 0.000000   \n",
       "3                     0.0               2                 2.666667   \n",
       "4                     0.0              10               627.500000   \n",
       "\n",
       "   BounceRates  ExitRates  PageValues  SpecialDay        VisitorType  Weekend  \\\n",
       "0         0.20       0.20         0.0         0.0  Returning_Visitor        0   \n",
       "1         0.00       0.10         0.0         0.0  Returning_Visitor        0   \n",
       "2         0.20       0.20         0.0         0.0  Returning_Visitor        0   \n",
       "3         0.05       0.14         0.0         0.0  Returning_Visitor        0   \n",
       "4         0.02       0.05         0.0         0.0  Returning_Visitor        1   \n",
       "\n",
       "   Revenue  \n",
       "0        0  \n",
       "1        0  \n",
       "2        0  \n",
       "3        0  \n",
       "4        0  "
      ]
     },
     "execution_count": 9,
     "metadata": {},
     "output_type": "execute_result"
    }
   ],
   "source": [
    "dataset.drop(['OperatingSystems'], axis = 1, inplace = True) \n",
    "dataset.drop(['Browser','Region','TrafficType','Month'], axis = 1, inplace = True) \n",
    "dataset.head()"
   ]
  },
  {
   "cell_type": "markdown",
   "id": "d1daa850",
   "metadata": {},
   "source": [
    "### Check null value"
   ]
  },
  {
   "cell_type": "code",
   "execution_count": 10,
   "id": "86421b02",
   "metadata": {},
   "outputs": [
    {
     "data": {
      "text/plain": [
       "Administrative             False\n",
       "Administrative_Duration    False\n",
       "Informational              False\n",
       "Informational_Duration     False\n",
       "ProductRelated             False\n",
       "ProductRelated_Duration    False\n",
       "BounceRates                False\n",
       "ExitRates                  False\n",
       "PageValues                 False\n",
       "SpecialDay                 False\n",
       "VisitorType                False\n",
       "Weekend                    False\n",
       "Revenue                    False\n",
       "dtype: bool"
      ]
     },
     "execution_count": 10,
     "metadata": {},
     "output_type": "execute_result"
    }
   ],
   "source": [
    "dataset.isna().any()"
   ]
  },
  {
   "cell_type": "markdown",
   "id": "c9ff557f",
   "metadata": {},
   "source": [
    "### Check Multicollinearity"
   ]
  },
  {
   "cell_type": "code",
   "execution_count": 11,
   "id": "d6d34ddf",
   "metadata": {},
   "outputs": [
    {
     "data": {
      "text/html": [
       "<style  type=\"text/css\" >\n",
       "#T_56e19_row0_col0,#T_56e19_row1_col1,#T_56e19_row2_col2,#T_56e19_row3_col3,#T_56e19_row4_col4,#T_56e19_row5_col5,#T_56e19_row6_col6,#T_56e19_row7_col7,#T_56e19_row8_col8,#T_56e19_row9_col9,#T_56e19_row10_col10,#T_56e19_row11_col11{\n",
       "            background-color:  #b40426;\n",
       "            color:  #f1f1f1;\n",
       "        }#T_56e19_row0_col1{\n",
       "            background-color:  #f7b79b;\n",
       "            color:  #000000;\n",
       "        }#T_56e19_row0_col2,#T_56e19_row4_col2{\n",
       "            background-color:  #d3dbe7;\n",
       "            color:  #000000;\n",
       "        }#T_56e19_row0_col3{\n",
       "            background-color:  #a7c5fe;\n",
       "            color:  #000000;\n",
       "        }#T_56e19_row0_col4{\n",
       "            background-color:  #ebd3c6;\n",
       "            color:  #000000;\n",
       "        }#T_56e19_row0_col5{\n",
       "            background-color:  #dcdddd;\n",
       "            color:  #000000;\n",
       "        }#T_56e19_row0_col6,#T_56e19_row0_col7,#T_56e19_row0_col9,#T_56e19_row7_col0,#T_56e19_row7_col1,#T_56e19_row7_col2,#T_56e19_row7_col3,#T_56e19_row7_col4,#T_56e19_row7_col5,#T_56e19_row7_col8,#T_56e19_row7_col10,#T_56e19_row7_col11{\n",
       "            background-color:  #3b4cc0;\n",
       "            color:  #f1f1f1;\n",
       "        }#T_56e19_row0_col8{\n",
       "            background-color:  #86a9fc;\n",
       "            color:  #000000;\n",
       "        }#T_56e19_row0_col10,#T_56e19_row1_col7,#T_56e19_row8_col6,#T_56e19_row11_col7{\n",
       "            background-color:  #5470de;\n",
       "            color:  #000000;\n",
       "        }#T_56e19_row0_col11{\n",
       "            background-color:  #9abbff;\n",
       "            color:  #000000;\n",
       "        }#T_56e19_row1_col0{\n",
       "            background-color:  #f7ad90;\n",
       "            color:  #000000;\n",
       "        }#T_56e19_row1_col2{\n",
       "            background-color:  #c0d4f5;\n",
       "            color:  #000000;\n",
       "        }#T_56e19_row1_col3{\n",
       "            background-color:  #a2c1ff;\n",
       "            color:  #000000;\n",
       "        }#T_56e19_row1_col4{\n",
       "            background-color:  #cfdaea;\n",
       "            color:  #000000;\n",
       "        }#T_56e19_row1_col5{\n",
       "            background-color:  #d9dce1;\n",
       "            color:  #000000;\n",
       "        }#T_56e19_row1_col6,#T_56e19_row4_col9,#T_56e19_row5_col10{\n",
       "            background-color:  #4e68d8;\n",
       "            color:  #000000;\n",
       "        }#T_56e19_row1_col8{\n",
       "            background-color:  #7da0f9;\n",
       "            color:  #000000;\n",
       "        }#T_56e19_row1_col9{\n",
       "            background-color:  #4055c8;\n",
       "            color:  #f1f1f1;\n",
       "        }#T_56e19_row1_col10,#T_56e19_row4_col10,#T_56e19_row6_col0,#T_56e19_row10_col9{\n",
       "            background-color:  #506bda;\n",
       "            color:  #000000;\n",
       "        }#T_56e19_row1_col11,#T_56e19_row11_col1{\n",
       "            background-color:  #8caffe;\n",
       "            color:  #000000;\n",
       "        }#T_56e19_row2_col0,#T_56e19_row5_col0{\n",
       "            background-color:  #e3d9d3;\n",
       "            color:  #000000;\n",
       "        }#T_56e19_row2_col1{\n",
       "            background-color:  #c6d6f1;\n",
       "            color:  #000000;\n",
       "        }#T_56e19_row2_col3{\n",
       "            background-color:  #f7bca1;\n",
       "            color:  #000000;\n",
       "        }#T_56e19_row2_col4{\n",
       "            background-color:  #e1dad6;\n",
       "            color:  #000000;\n",
       "        }#T_56e19_row2_col5{\n",
       "            background-color:  #dfdbd9;\n",
       "            color:  #000000;\n",
       "        }#T_56e19_row2_col6,#T_56e19_row11_col10{\n",
       "            background-color:  #5572df;\n",
       "            color:  #000000;\n",
       "        }#T_56e19_row2_col7,#T_56e19_row10_col3{\n",
       "            background-color:  #5e7de7;\n",
       "            color:  #000000;\n",
       "        }#T_56e19_row2_col8{\n",
       "            background-color:  #779af7;\n",
       "            color:  #000000;\n",
       "        }#T_56e19_row2_col9,#T_56e19_row6_col2{\n",
       "            background-color:  #465ecf;\n",
       "            color:  #f1f1f1;\n",
       "        }#T_56e19_row2_col10{\n",
       "            background-color:  #5673e0;\n",
       "            color:  #000000;\n",
       "        }#T_56e19_row2_col11{\n",
       "            background-color:  #8db0fe;\n",
       "            color:  #000000;\n",
       "        }#T_56e19_row3_col0{\n",
       "            background-color:  #cbd8ee;\n",
       "            color:  #000000;\n",
       "        }#T_56e19_row3_col1{\n",
       "            background-color:  #b6cefa;\n",
       "            color:  #000000;\n",
       "        }#T_56e19_row3_col2{\n",
       "            background-color:  #f7b599;\n",
       "            color:  #000000;\n",
       "        }#T_56e19_row3_col4{\n",
       "            background-color:  #cdd9ec;\n",
       "            color:  #000000;\n",
       "        }#T_56e19_row3_col5{\n",
       "            background-color:  #d7dce3;\n",
       "            color:  #000000;\n",
       "        }#T_56e19_row3_col6,#T_56e19_row8_col3{\n",
       "            background-color:  #6180e9;\n",
       "            color:  #000000;\n",
       "        }#T_56e19_row3_col7{\n",
       "            background-color:  #6e90f2;\n",
       "            color:  #000000;\n",
       "        }#T_56e19_row3_col8,#T_56e19_row9_col5{\n",
       "            background-color:  #7295f4;\n",
       "            color:  #000000;\n",
       "        }#T_56e19_row3_col9,#T_56e19_row11_col6{\n",
       "            background-color:  #4c66d6;\n",
       "            color:  #000000;\n",
       "        }#T_56e19_row3_col10{\n",
       "            background-color:  #536edd;\n",
       "            color:  #000000;\n",
       "        }#T_56e19_row3_col11,#T_56e19_row8_col1{\n",
       "            background-color:  #85a8fc;\n",
       "            color:  #000000;\n",
       "        }#T_56e19_row4_col0,#T_56e19_row11_col8{\n",
       "            background-color:  #edd2c3;\n",
       "            color:  #000000;\n",
       "        }#T_56e19_row4_col1{\n",
       "            background-color:  #c4d5f3;\n",
       "            color:  #000000;\n",
       "        }#T_56e19_row4_col3,#T_56e19_row11_col4{\n",
       "            background-color:  #afcafc;\n",
       "            color:  #000000;\n",
       "        }#T_56e19_row4_col5{\n",
       "            background-color:  #d95847;\n",
       "            color:  #000000;\n",
       "        }#T_56e19_row4_col6,#T_56e19_row6_col10{\n",
       "            background-color:  #3e51c5;\n",
       "            color:  #f1f1f1;\n",
       "        }#T_56e19_row4_col7{\n",
       "            background-color:  #3f53c6;\n",
       "            color:  #f1f1f1;\n",
       "        }#T_56e19_row4_col8,#T_56e19_row10_col11{\n",
       "            background-color:  #7a9df8;\n",
       "            color:  #000000;\n",
       "        }#T_56e19_row4_col11{\n",
       "            background-color:  #9fbfff;\n",
       "            color:  #000000;\n",
       "        }#T_56e19_row5_col1{\n",
       "            background-color:  #d4dbe6;\n",
       "            color:  #000000;\n",
       "        }#T_56e19_row5_col2{\n",
       "            background-color:  #d6dce4;\n",
       "            color:  #000000;\n",
       "        }#T_56e19_row5_col3{\n",
       "            background-color:  #c3d5f4;\n",
       "            color:  #000000;\n",
       "        }#T_56e19_row5_col4{\n",
       "            background-color:  #d85646;\n",
       "            color:  #000000;\n",
       "        }#T_56e19_row5_col6{\n",
       "            background-color:  #445acc;\n",
       "            color:  #f1f1f1;\n",
       "        }#T_56e19_row5_col7,#T_56e19_row6_col8{\n",
       "            background-color:  #4961d2;\n",
       "            color:  #f1f1f1;\n",
       "        }#T_56e19_row5_col8,#T_56e19_row10_col7{\n",
       "            background-color:  #799cf8;\n",
       "            color:  #000000;\n",
       "        }#T_56e19_row5_col9,#T_56e19_row6_col1,#T_56e19_row6_col5{\n",
       "            background-color:  #4a63d3;\n",
       "            color:  #f1f1f1;\n",
       "        }#T_56e19_row5_col11{\n",
       "            background-color:  #9ebeff;\n",
       "            color:  #000000;\n",
       "        }#T_56e19_row6_col3,#T_56e19_row8_col9{\n",
       "            background-color:  #4358cb;\n",
       "            color:  #f1f1f1;\n",
       "        }#T_56e19_row6_col4,#T_56e19_row8_col10,#T_56e19_row9_col3{\n",
       "            background-color:  #4f69d9;\n",
       "            color:  #000000;\n",
       "        }#T_56e19_row6_col7{\n",
       "            background-color:  #cb3e38;\n",
       "            color:  #f1f1f1;\n",
       "        }#T_56e19_row6_col9{\n",
       "            background-color:  #6b8df0;\n",
       "            color:  #000000;\n",
       "        }#T_56e19_row6_col11,#T_56e19_row9_col10{\n",
       "            background-color:  #485fd1;\n",
       "            color:  #f1f1f1;\n",
       "        }#T_56e19_row7_col6{\n",
       "            background-color:  #cd423b;\n",
       "            color:  #f1f1f1;\n",
       "        }#T_56e19_row7_col9,#T_56e19_row8_col2,#T_56e19_row10_col1{\n",
       "            background-color:  #7597f6;\n",
       "            color:  #000000;\n",
       "        }#T_56e19_row8_col0{\n",
       "            background-color:  #a3c2fe;\n",
       "            color:  #000000;\n",
       "        }#T_56e19_row8_col4{\n",
       "            background-color:  #94b6ff;\n",
       "            color:  #000000;\n",
       "        }#T_56e19_row8_col5{\n",
       "            background-color:  #8badfd;\n",
       "            color:  #000000;\n",
       "        }#T_56e19_row8_col7{\n",
       "            background-color:  #5b7ae5;\n",
       "            color:  #000000;\n",
       "        }#T_56e19_row8_col11{\n",
       "            background-color:  #efcfbf;\n",
       "            color:  #000000;\n",
       "        }#T_56e19_row9_col0,#T_56e19_row10_col2{\n",
       "            background-color:  #7093f3;\n",
       "            color:  #000000;\n",
       "        }#T_56e19_row9_col1{\n",
       "            background-color:  #5d7ce6;\n",
       "            color:  #000000;\n",
       "        }#T_56e19_row9_col2{\n",
       "            background-color:  #5977e3;\n",
       "            color:  #000000;\n",
       "        }#T_56e19_row9_col4,#T_56e19_row10_col5{\n",
       "            background-color:  #7ea1fa;\n",
       "            color:  #000000;\n",
       "        }#T_56e19_row9_col6,#T_56e19_row10_col4{\n",
       "            background-color:  #89acfd;\n",
       "            color:  #000000;\n",
       "        }#T_56e19_row9_col7{\n",
       "            background-color:  #a5c3fe;\n",
       "            color:  #000000;\n",
       "        }#T_56e19_row9_col8{\n",
       "            background-color:  #5875e1;\n",
       "            color:  #000000;\n",
       "        }#T_56e19_row9_col11{\n",
       "            background-color:  #5a78e4;\n",
       "            color:  #000000;\n",
       "        }#T_56e19_row10_col0{\n",
       "            background-color:  #90b2fe;\n",
       "            color:  #000000;\n",
       "        }#T_56e19_row10_col6{\n",
       "            background-color:  #688aef;\n",
       "            color:  #000000;\n",
       "        }#T_56e19_row10_col8,#T_56e19_row11_col3{\n",
       "            background-color:  #6c8ff1;\n",
       "            color:  #000000;\n",
       "        }#T_56e19_row11_col0{\n",
       "            background-color:  #aec9fc;\n",
       "            color:  #000000;\n",
       "        }#T_56e19_row11_col2{\n",
       "            background-color:  #82a6fb;\n",
       "            color:  #000000;\n",
       "        }#T_56e19_row11_col5{\n",
       "            background-color:  #a6c4fe;\n",
       "            color:  #000000;\n",
       "        }#T_56e19_row11_col9{\n",
       "            background-color:  #3d50c3;\n",
       "            color:  #f1f1f1;\n",
       "        }</style><table id=\"T_56e19_\" ><thead>    <tr>        <th class=\"blank level0\" ></th>        <th class=\"col_heading level0 col0\" >Administrative</th>        <th class=\"col_heading level0 col1\" >Administrative_Duration</th>        <th class=\"col_heading level0 col2\" >Informational</th>        <th class=\"col_heading level0 col3\" >Informational_Duration</th>        <th class=\"col_heading level0 col4\" >ProductRelated</th>        <th class=\"col_heading level0 col5\" >ProductRelated_Duration</th>        <th class=\"col_heading level0 col6\" >BounceRates</th>        <th class=\"col_heading level0 col7\" >ExitRates</th>        <th class=\"col_heading level0 col8\" >PageValues</th>        <th class=\"col_heading level0 col9\" >SpecialDay</th>        <th class=\"col_heading level0 col10\" >Weekend</th>        <th class=\"col_heading level0 col11\" >Revenue</th>    </tr></thead><tbody>\n",
       "                <tr>\n",
       "                        <th id=\"T_56e19_level0_row0\" class=\"row_heading level0 row0\" >Administrative</th>\n",
       "                        <td id=\"T_56e19_row0_col0\" class=\"data row0 col0\" >1.00</td>\n",
       "                        <td id=\"T_56e19_row0_col1\" class=\"data row0 col1\" >0.60</td>\n",
       "                        <td id=\"T_56e19_row0_col2\" class=\"data row0 col2\" >0.38</td>\n",
       "                        <td id=\"T_56e19_row0_col3\" class=\"data row0 col3\" >0.26</td>\n",
       "                        <td id=\"T_56e19_row0_col4\" class=\"data row0 col4\" >0.43</td>\n",
       "                        <td id=\"T_56e19_row0_col5\" class=\"data row0 col5\" >0.37</td>\n",
       "                        <td id=\"T_56e19_row0_col6\" class=\"data row0 col6\" >-0.22</td>\n",
       "                        <td id=\"T_56e19_row0_col7\" class=\"data row0 col7\" >-0.32</td>\n",
       "                        <td id=\"T_56e19_row0_col8\" class=\"data row0 col8\" >0.10</td>\n",
       "                        <td id=\"T_56e19_row0_col9\" class=\"data row0 col9\" >-0.09</td>\n",
       "                        <td id=\"T_56e19_row0_col10\" class=\"data row0 col10\" >0.03</td>\n",
       "                        <td id=\"T_56e19_row0_col11\" class=\"data row0 col11\" >0.14</td>\n",
       "            </tr>\n",
       "            <tr>\n",
       "                        <th id=\"T_56e19_level0_row1\" class=\"row_heading level0 row1\" >Administrative_Duration</th>\n",
       "                        <td id=\"T_56e19_row1_col0\" class=\"data row1 col0\" >0.60</td>\n",
       "                        <td id=\"T_56e19_row1_col1\" class=\"data row1 col1\" >1.00</td>\n",
       "                        <td id=\"T_56e19_row1_col2\" class=\"data row1 col2\" >0.30</td>\n",
       "                        <td id=\"T_56e19_row1_col3\" class=\"data row1 col3\" >0.24</td>\n",
       "                        <td id=\"T_56e19_row1_col4\" class=\"data row1 col4\" >0.29</td>\n",
       "                        <td id=\"T_56e19_row1_col5\" class=\"data row1 col5\" >0.36</td>\n",
       "                        <td id=\"T_56e19_row1_col6\" class=\"data row1 col6\" >-0.14</td>\n",
       "                        <td id=\"T_56e19_row1_col7\" class=\"data row1 col7\" >-0.21</td>\n",
       "                        <td id=\"T_56e19_row1_col8\" class=\"data row1 col8\" >0.07</td>\n",
       "                        <td id=\"T_56e19_row1_col9\" class=\"data row1 col9\" >-0.07</td>\n",
       "                        <td id=\"T_56e19_row1_col10\" class=\"data row1 col10\" >0.01</td>\n",
       "                        <td id=\"T_56e19_row1_col11\" class=\"data row1 col11\" >0.09</td>\n",
       "            </tr>\n",
       "            <tr>\n",
       "                        <th id=\"T_56e19_level0_row2\" class=\"row_heading level0 row2\" >Informational</th>\n",
       "                        <td id=\"T_56e19_row2_col0\" class=\"data row2 col0\" >0.38</td>\n",
       "                        <td id=\"T_56e19_row2_col1\" class=\"data row2 col1\" >0.30</td>\n",
       "                        <td id=\"T_56e19_row2_col2\" class=\"data row2 col2\" >1.00</td>\n",
       "                        <td id=\"T_56e19_row2_col3\" class=\"data row2 col3\" >0.62</td>\n",
       "                        <td id=\"T_56e19_row2_col4\" class=\"data row2 col4\" >0.37</td>\n",
       "                        <td id=\"T_56e19_row2_col5\" class=\"data row2 col5\" >0.39</td>\n",
       "                        <td id=\"T_56e19_row2_col6\" class=\"data row2 col6\" >-0.12</td>\n",
       "                        <td id=\"T_56e19_row2_col7\" class=\"data row2 col7\" >-0.16</td>\n",
       "                        <td id=\"T_56e19_row2_col8\" class=\"data row2 col8\" >0.05</td>\n",
       "                        <td id=\"T_56e19_row2_col9\" class=\"data row2 col9\" >-0.05</td>\n",
       "                        <td id=\"T_56e19_row2_col10\" class=\"data row2 col10\" >0.04</td>\n",
       "                        <td id=\"T_56e19_row2_col11\" class=\"data row2 col11\" >0.10</td>\n",
       "            </tr>\n",
       "            <tr>\n",
       "                        <th id=\"T_56e19_level0_row3\" class=\"row_heading level0 row3\" >Informational_Duration</th>\n",
       "                        <td id=\"T_56e19_row3_col0\" class=\"data row3 col0\" >0.26</td>\n",
       "                        <td id=\"T_56e19_row3_col1\" class=\"data row3 col1\" >0.24</td>\n",
       "                        <td id=\"T_56e19_row3_col2\" class=\"data row3 col2\" >0.62</td>\n",
       "                        <td id=\"T_56e19_row3_col3\" class=\"data row3 col3\" >1.00</td>\n",
       "                        <td id=\"T_56e19_row3_col4\" class=\"data row3 col4\" >0.28</td>\n",
       "                        <td id=\"T_56e19_row3_col5\" class=\"data row3 col5\" >0.35</td>\n",
       "                        <td id=\"T_56e19_row3_col6\" class=\"data row3 col6\" >-0.07</td>\n",
       "                        <td id=\"T_56e19_row3_col7\" class=\"data row3 col7\" >-0.11</td>\n",
       "                        <td id=\"T_56e19_row3_col8\" class=\"data row3 col8\" >0.03</td>\n",
       "                        <td id=\"T_56e19_row3_col9\" class=\"data row3 col9\" >-0.03</td>\n",
       "                        <td id=\"T_56e19_row3_col10\" class=\"data row3 col10\" >0.02</td>\n",
       "                        <td id=\"T_56e19_row3_col11\" class=\"data row3 col11\" >0.07</td>\n",
       "            </tr>\n",
       "            <tr>\n",
       "                        <th id=\"T_56e19_level0_row4\" class=\"row_heading level0 row4\" >ProductRelated</th>\n",
       "                        <td id=\"T_56e19_row4_col0\" class=\"data row4 col0\" >0.43</td>\n",
       "                        <td id=\"T_56e19_row4_col1\" class=\"data row4 col1\" >0.29</td>\n",
       "                        <td id=\"T_56e19_row4_col2\" class=\"data row4 col2\" >0.37</td>\n",
       "                        <td id=\"T_56e19_row4_col3\" class=\"data row4 col3\" >0.28</td>\n",
       "                        <td id=\"T_56e19_row4_col4\" class=\"data row4 col4\" >1.00</td>\n",
       "                        <td id=\"T_56e19_row4_col5\" class=\"data row4 col5\" >0.86</td>\n",
       "                        <td id=\"T_56e19_row4_col6\" class=\"data row4 col6\" >-0.20</td>\n",
       "                        <td id=\"T_56e19_row4_col7\" class=\"data row4 col7\" >-0.29</td>\n",
       "                        <td id=\"T_56e19_row4_col8\" class=\"data row4 col8\" >0.06</td>\n",
       "                        <td id=\"T_56e19_row4_col9\" class=\"data row4 col9\" >-0.02</td>\n",
       "                        <td id=\"T_56e19_row4_col10\" class=\"data row4 col10\" >0.02</td>\n",
       "                        <td id=\"T_56e19_row4_col11\" class=\"data row4 col11\" >0.16</td>\n",
       "            </tr>\n",
       "            <tr>\n",
       "                        <th id=\"T_56e19_level0_row5\" class=\"row_heading level0 row5\" >ProductRelated_Duration</th>\n",
       "                        <td id=\"T_56e19_row5_col0\" class=\"data row5 col0\" >0.37</td>\n",
       "                        <td id=\"T_56e19_row5_col1\" class=\"data row5 col1\" >0.36</td>\n",
       "                        <td id=\"T_56e19_row5_col2\" class=\"data row5 col2\" >0.39</td>\n",
       "                        <td id=\"T_56e19_row5_col3\" class=\"data row5 col3\" >0.35</td>\n",
       "                        <td id=\"T_56e19_row5_col4\" class=\"data row5 col4\" >0.86</td>\n",
       "                        <td id=\"T_56e19_row5_col5\" class=\"data row5 col5\" >1.00</td>\n",
       "                        <td id=\"T_56e19_row5_col6\" class=\"data row5 col6\" >-0.18</td>\n",
       "                        <td id=\"T_56e19_row5_col7\" class=\"data row5 col7\" >-0.25</td>\n",
       "                        <td id=\"T_56e19_row5_col8\" class=\"data row5 col8\" >0.05</td>\n",
       "                        <td id=\"T_56e19_row5_col9\" class=\"data row5 col9\" >-0.04</td>\n",
       "                        <td id=\"T_56e19_row5_col10\" class=\"data row5 col10\" >0.01</td>\n",
       "                        <td id=\"T_56e19_row5_col11\" class=\"data row5 col11\" >0.15</td>\n",
       "            </tr>\n",
       "            <tr>\n",
       "                        <th id=\"T_56e19_level0_row6\" class=\"row_heading level0 row6\" >BounceRates</th>\n",
       "                        <td id=\"T_56e19_row6_col0\" class=\"data row6 col0\" >-0.22</td>\n",
       "                        <td id=\"T_56e19_row6_col1\" class=\"data row6 col1\" >-0.14</td>\n",
       "                        <td id=\"T_56e19_row6_col2\" class=\"data row6 col2\" >-0.12</td>\n",
       "                        <td id=\"T_56e19_row6_col3\" class=\"data row6 col3\" >-0.07</td>\n",
       "                        <td id=\"T_56e19_row6_col4\" class=\"data row6 col4\" >-0.20</td>\n",
       "                        <td id=\"T_56e19_row6_col5\" class=\"data row6 col5\" >-0.18</td>\n",
       "                        <td id=\"T_56e19_row6_col6\" class=\"data row6 col6\" >1.00</td>\n",
       "                        <td id=\"T_56e19_row6_col7\" class=\"data row6 col7\" >0.91</td>\n",
       "                        <td id=\"T_56e19_row6_col8\" class=\"data row6 col8\" >-0.12</td>\n",
       "                        <td id=\"T_56e19_row6_col9\" class=\"data row6 col9\" >0.07</td>\n",
       "                        <td id=\"T_56e19_row6_col10\" class=\"data row6 col10\" >-0.05</td>\n",
       "                        <td id=\"T_56e19_row6_col11\" class=\"data row6 col11\" >-0.15</td>\n",
       "            </tr>\n",
       "            <tr>\n",
       "                        <th id=\"T_56e19_level0_row7\" class=\"row_heading level0 row7\" >ExitRates</th>\n",
       "                        <td id=\"T_56e19_row7_col0\" class=\"data row7 col0\" >-0.32</td>\n",
       "                        <td id=\"T_56e19_row7_col1\" class=\"data row7 col1\" >-0.21</td>\n",
       "                        <td id=\"T_56e19_row7_col2\" class=\"data row7 col2\" >-0.16</td>\n",
       "                        <td id=\"T_56e19_row7_col3\" class=\"data row7 col3\" >-0.11</td>\n",
       "                        <td id=\"T_56e19_row7_col4\" class=\"data row7 col4\" >-0.29</td>\n",
       "                        <td id=\"T_56e19_row7_col5\" class=\"data row7 col5\" >-0.25</td>\n",
       "                        <td id=\"T_56e19_row7_col6\" class=\"data row7 col6\" >0.91</td>\n",
       "                        <td id=\"T_56e19_row7_col7\" class=\"data row7 col7\" >1.00</td>\n",
       "                        <td id=\"T_56e19_row7_col8\" class=\"data row7 col8\" >-0.17</td>\n",
       "                        <td id=\"T_56e19_row7_col9\" class=\"data row7 col9\" >0.10</td>\n",
       "                        <td id=\"T_56e19_row7_col10\" class=\"data row7 col10\" >-0.06</td>\n",
       "                        <td id=\"T_56e19_row7_col11\" class=\"data row7 col11\" >-0.21</td>\n",
       "            </tr>\n",
       "            <tr>\n",
       "                        <th id=\"T_56e19_level0_row8\" class=\"row_heading level0 row8\" >PageValues</th>\n",
       "                        <td id=\"T_56e19_row8_col0\" class=\"data row8 col0\" >0.10</td>\n",
       "                        <td id=\"T_56e19_row8_col1\" class=\"data row8 col1\" >0.07</td>\n",
       "                        <td id=\"T_56e19_row8_col2\" class=\"data row8 col2\" >0.05</td>\n",
       "                        <td id=\"T_56e19_row8_col3\" class=\"data row8 col3\" >0.03</td>\n",
       "                        <td id=\"T_56e19_row8_col4\" class=\"data row8 col4\" >0.06</td>\n",
       "                        <td id=\"T_56e19_row8_col5\" class=\"data row8 col5\" >0.05</td>\n",
       "                        <td id=\"T_56e19_row8_col6\" class=\"data row8 col6\" >-0.12</td>\n",
       "                        <td id=\"T_56e19_row8_col7\" class=\"data row8 col7\" >-0.17</td>\n",
       "                        <td id=\"T_56e19_row8_col8\" class=\"data row8 col8\" >1.00</td>\n",
       "                        <td id=\"T_56e19_row8_col9\" class=\"data row8 col9\" >-0.06</td>\n",
       "                        <td id=\"T_56e19_row8_col10\" class=\"data row8 col10\" >0.01</td>\n",
       "                        <td id=\"T_56e19_row8_col11\" class=\"data row8 col11\" >0.49</td>\n",
       "            </tr>\n",
       "            <tr>\n",
       "                        <th id=\"T_56e19_level0_row9\" class=\"row_heading level0 row9\" >SpecialDay</th>\n",
       "                        <td id=\"T_56e19_row9_col0\" class=\"data row9 col0\" >-0.09</td>\n",
       "                        <td id=\"T_56e19_row9_col1\" class=\"data row9 col1\" >-0.07</td>\n",
       "                        <td id=\"T_56e19_row9_col2\" class=\"data row9 col2\" >-0.05</td>\n",
       "                        <td id=\"T_56e19_row9_col3\" class=\"data row9 col3\" >-0.03</td>\n",
       "                        <td id=\"T_56e19_row9_col4\" class=\"data row9 col4\" >-0.02</td>\n",
       "                        <td id=\"T_56e19_row9_col5\" class=\"data row9 col5\" >-0.04</td>\n",
       "                        <td id=\"T_56e19_row9_col6\" class=\"data row9 col6\" >0.07</td>\n",
       "                        <td id=\"T_56e19_row9_col7\" class=\"data row9 col7\" >0.10</td>\n",
       "                        <td id=\"T_56e19_row9_col8\" class=\"data row9 col8\" >-0.06</td>\n",
       "                        <td id=\"T_56e19_row9_col9\" class=\"data row9 col9\" >1.00</td>\n",
       "                        <td id=\"T_56e19_row9_col10\" class=\"data row9 col10\" >-0.02</td>\n",
       "                        <td id=\"T_56e19_row9_col11\" class=\"data row9 col11\" >-0.08</td>\n",
       "            </tr>\n",
       "            <tr>\n",
       "                        <th id=\"T_56e19_level0_row10\" class=\"row_heading level0 row10\" >Weekend</th>\n",
       "                        <td id=\"T_56e19_row10_col0\" class=\"data row10 col0\" >0.03</td>\n",
       "                        <td id=\"T_56e19_row10_col1\" class=\"data row10 col1\" >0.01</td>\n",
       "                        <td id=\"T_56e19_row10_col2\" class=\"data row10 col2\" >0.04</td>\n",
       "                        <td id=\"T_56e19_row10_col3\" class=\"data row10 col3\" >0.02</td>\n",
       "                        <td id=\"T_56e19_row10_col4\" class=\"data row10 col4\" >0.02</td>\n",
       "                        <td id=\"T_56e19_row10_col5\" class=\"data row10 col5\" >0.01</td>\n",
       "                        <td id=\"T_56e19_row10_col6\" class=\"data row10 col6\" >-0.05</td>\n",
       "                        <td id=\"T_56e19_row10_col7\" class=\"data row10 col7\" >-0.06</td>\n",
       "                        <td id=\"T_56e19_row10_col8\" class=\"data row10 col8\" >0.01</td>\n",
       "                        <td id=\"T_56e19_row10_col9\" class=\"data row10 col9\" >-0.02</td>\n",
       "                        <td id=\"T_56e19_row10_col10\" class=\"data row10 col10\" >1.00</td>\n",
       "                        <td id=\"T_56e19_row10_col11\" class=\"data row10 col11\" >0.03</td>\n",
       "            </tr>\n",
       "            <tr>\n",
       "                        <th id=\"T_56e19_level0_row11\" class=\"row_heading level0 row11\" >Revenue</th>\n",
       "                        <td id=\"T_56e19_row11_col0\" class=\"data row11 col0\" >0.14</td>\n",
       "                        <td id=\"T_56e19_row11_col1\" class=\"data row11 col1\" >0.09</td>\n",
       "                        <td id=\"T_56e19_row11_col2\" class=\"data row11 col2\" >0.10</td>\n",
       "                        <td id=\"T_56e19_row11_col3\" class=\"data row11 col3\" >0.07</td>\n",
       "                        <td id=\"T_56e19_row11_col4\" class=\"data row11 col4\" >0.16</td>\n",
       "                        <td id=\"T_56e19_row11_col5\" class=\"data row11 col5\" >0.15</td>\n",
       "                        <td id=\"T_56e19_row11_col6\" class=\"data row11 col6\" >-0.15</td>\n",
       "                        <td id=\"T_56e19_row11_col7\" class=\"data row11 col7\" >-0.21</td>\n",
       "                        <td id=\"T_56e19_row11_col8\" class=\"data row11 col8\" >0.49</td>\n",
       "                        <td id=\"T_56e19_row11_col9\" class=\"data row11 col9\" >-0.08</td>\n",
       "                        <td id=\"T_56e19_row11_col10\" class=\"data row11 col10\" >0.03</td>\n",
       "                        <td id=\"T_56e19_row11_col11\" class=\"data row11 col11\" >1.00</td>\n",
       "            </tr>\n",
       "    </tbody></table>"
      ],
      "text/plain": [
       "<pandas.io.formats.style.Styler at 0x1eaad928af0>"
      ]
     },
     "execution_count": 11,
     "metadata": {},
     "output_type": "execute_result"
    }
   ],
   "source": [
    "dataset.corr().style.background_gradient(cmap='coolwarm').set_precision(2)"
   ]
  },
  {
   "cell_type": "markdown",
   "id": "fe0f3faf",
   "metadata": {},
   "source": [
    "### Remove 'ProductRelated_Duration' & 'ExitRates' to solve Multicollinearity"
   ]
  },
  {
   "cell_type": "code",
   "execution_count": 12,
   "id": "2881f50c",
   "metadata": {},
   "outputs": [],
   "source": [
    "dataset.drop(['ProductRelated_Duration','ExitRates'], axis = 1, inplace = True)"
   ]
  },
  {
   "cell_type": "code",
   "execution_count": 13,
   "id": "75ae7734",
   "metadata": {},
   "outputs": [
    {
     "data": {
      "text/html": [
       "<div>\n",
       "<style scoped>\n",
       "    .dataframe tbody tr th:only-of-type {\n",
       "        vertical-align: middle;\n",
       "    }\n",
       "\n",
       "    .dataframe tbody tr th {\n",
       "        vertical-align: top;\n",
       "    }\n",
       "\n",
       "    .dataframe thead th {\n",
       "        text-align: right;\n",
       "    }\n",
       "</style>\n",
       "<table border=\"1\" class=\"dataframe\">\n",
       "  <thead>\n",
       "    <tr style=\"text-align: right;\">\n",
       "      <th></th>\n",
       "      <th>Administrative</th>\n",
       "      <th>Administrative_Duration</th>\n",
       "      <th>Informational</th>\n",
       "      <th>Informational_Duration</th>\n",
       "      <th>ProductRelated</th>\n",
       "      <th>BounceRates</th>\n",
       "      <th>PageValues</th>\n",
       "      <th>SpecialDay</th>\n",
       "      <th>VisitorType</th>\n",
       "      <th>Weekend</th>\n",
       "      <th>Revenue</th>\n",
       "    </tr>\n",
       "  </thead>\n",
       "  <tbody>\n",
       "    <tr>\n",
       "      <th>0</th>\n",
       "      <td>0</td>\n",
       "      <td>0.0</td>\n",
       "      <td>0</td>\n",
       "      <td>0.0</td>\n",
       "      <td>1</td>\n",
       "      <td>0.20</td>\n",
       "      <td>0.0</td>\n",
       "      <td>0.0</td>\n",
       "      <td>Returning_Visitor</td>\n",
       "      <td>0</td>\n",
       "      <td>0</td>\n",
       "    </tr>\n",
       "    <tr>\n",
       "      <th>1</th>\n",
       "      <td>0</td>\n",
       "      <td>0.0</td>\n",
       "      <td>0</td>\n",
       "      <td>0.0</td>\n",
       "      <td>2</td>\n",
       "      <td>0.00</td>\n",
       "      <td>0.0</td>\n",
       "      <td>0.0</td>\n",
       "      <td>Returning_Visitor</td>\n",
       "      <td>0</td>\n",
       "      <td>0</td>\n",
       "    </tr>\n",
       "    <tr>\n",
       "      <th>2</th>\n",
       "      <td>0</td>\n",
       "      <td>0.0</td>\n",
       "      <td>0</td>\n",
       "      <td>0.0</td>\n",
       "      <td>1</td>\n",
       "      <td>0.20</td>\n",
       "      <td>0.0</td>\n",
       "      <td>0.0</td>\n",
       "      <td>Returning_Visitor</td>\n",
       "      <td>0</td>\n",
       "      <td>0</td>\n",
       "    </tr>\n",
       "    <tr>\n",
       "      <th>3</th>\n",
       "      <td>0</td>\n",
       "      <td>0.0</td>\n",
       "      <td>0</td>\n",
       "      <td>0.0</td>\n",
       "      <td>2</td>\n",
       "      <td>0.05</td>\n",
       "      <td>0.0</td>\n",
       "      <td>0.0</td>\n",
       "      <td>Returning_Visitor</td>\n",
       "      <td>0</td>\n",
       "      <td>0</td>\n",
       "    </tr>\n",
       "    <tr>\n",
       "      <th>4</th>\n",
       "      <td>0</td>\n",
       "      <td>0.0</td>\n",
       "      <td>0</td>\n",
       "      <td>0.0</td>\n",
       "      <td>10</td>\n",
       "      <td>0.02</td>\n",
       "      <td>0.0</td>\n",
       "      <td>0.0</td>\n",
       "      <td>Returning_Visitor</td>\n",
       "      <td>1</td>\n",
       "      <td>0</td>\n",
       "    </tr>\n",
       "  </tbody>\n",
       "</table>\n",
       "</div>"
      ],
      "text/plain": [
       "   Administrative  Administrative_Duration  Informational  \\\n",
       "0               0                      0.0              0   \n",
       "1               0                      0.0              0   \n",
       "2               0                      0.0              0   \n",
       "3               0                      0.0              0   \n",
       "4               0                      0.0              0   \n",
       "\n",
       "   Informational_Duration  ProductRelated  BounceRates  PageValues  \\\n",
       "0                     0.0               1         0.20         0.0   \n",
       "1                     0.0               2         0.00         0.0   \n",
       "2                     0.0               1         0.20         0.0   \n",
       "3                     0.0               2         0.05         0.0   \n",
       "4                     0.0              10         0.02         0.0   \n",
       "\n",
       "   SpecialDay        VisitorType  Weekend  Revenue  \n",
       "0         0.0  Returning_Visitor        0        0  \n",
       "1         0.0  Returning_Visitor        0        0  \n",
       "2         0.0  Returning_Visitor        0        0  \n",
       "3         0.0  Returning_Visitor        0        0  \n",
       "4         0.0  Returning_Visitor        1        0  "
      ]
     },
     "execution_count": 13,
     "metadata": {},
     "output_type": "execute_result"
    }
   ],
   "source": [
    "dataset.head()"
   ]
  },
  {
   "cell_type": "markdown",
   "id": "9cc48e7d",
   "metadata": {},
   "source": [
    "### Handling Categorical Variables in 'VisitotType'\n"
   ]
  },
  {
   "cell_type": "code",
   "execution_count": 14,
   "id": "2181867a",
   "metadata": {},
   "outputs": [
    {
     "data": {
      "text/html": [
       "<div>\n",
       "<style scoped>\n",
       "    .dataframe tbody tr th:only-of-type {\n",
       "        vertical-align: middle;\n",
       "    }\n",
       "\n",
       "    .dataframe tbody tr th {\n",
       "        vertical-align: top;\n",
       "    }\n",
       "\n",
       "    .dataframe thead th {\n",
       "        text-align: right;\n",
       "    }\n",
       "</style>\n",
       "<table border=\"1\" class=\"dataframe\">\n",
       "  <thead>\n",
       "    <tr style=\"text-align: right;\">\n",
       "      <th></th>\n",
       "      <th>Administrative</th>\n",
       "      <th>Administrative_Duration</th>\n",
       "      <th>Informational</th>\n",
       "      <th>Informational_Duration</th>\n",
       "      <th>ProductRelated</th>\n",
       "      <th>BounceRates</th>\n",
       "      <th>PageValues</th>\n",
       "      <th>SpecialDay</th>\n",
       "      <th>Weekend</th>\n",
       "      <th>Visitor_New_Visitor</th>\n",
       "      <th>Visitor_Returning_Visitor</th>\n",
       "      <th>Revenue</th>\n",
       "    </tr>\n",
       "  </thead>\n",
       "  <tbody>\n",
       "    <tr>\n",
       "      <th>0</th>\n",
       "      <td>0</td>\n",
       "      <td>0.0</td>\n",
       "      <td>0</td>\n",
       "      <td>0.0</td>\n",
       "      <td>1</td>\n",
       "      <td>0.20</td>\n",
       "      <td>0.0</td>\n",
       "      <td>0.0</td>\n",
       "      <td>0</td>\n",
       "      <td>0</td>\n",
       "      <td>1</td>\n",
       "      <td>0</td>\n",
       "    </tr>\n",
       "    <tr>\n",
       "      <th>1</th>\n",
       "      <td>0</td>\n",
       "      <td>0.0</td>\n",
       "      <td>0</td>\n",
       "      <td>0.0</td>\n",
       "      <td>2</td>\n",
       "      <td>0.00</td>\n",
       "      <td>0.0</td>\n",
       "      <td>0.0</td>\n",
       "      <td>0</td>\n",
       "      <td>0</td>\n",
       "      <td>1</td>\n",
       "      <td>0</td>\n",
       "    </tr>\n",
       "    <tr>\n",
       "      <th>2</th>\n",
       "      <td>0</td>\n",
       "      <td>0.0</td>\n",
       "      <td>0</td>\n",
       "      <td>0.0</td>\n",
       "      <td>1</td>\n",
       "      <td>0.20</td>\n",
       "      <td>0.0</td>\n",
       "      <td>0.0</td>\n",
       "      <td>0</td>\n",
       "      <td>0</td>\n",
       "      <td>1</td>\n",
       "      <td>0</td>\n",
       "    </tr>\n",
       "    <tr>\n",
       "      <th>3</th>\n",
       "      <td>0</td>\n",
       "      <td>0.0</td>\n",
       "      <td>0</td>\n",
       "      <td>0.0</td>\n",
       "      <td>2</td>\n",
       "      <td>0.05</td>\n",
       "      <td>0.0</td>\n",
       "      <td>0.0</td>\n",
       "      <td>0</td>\n",
       "      <td>0</td>\n",
       "      <td>1</td>\n",
       "      <td>0</td>\n",
       "    </tr>\n",
       "    <tr>\n",
       "      <th>4</th>\n",
       "      <td>0</td>\n",
       "      <td>0.0</td>\n",
       "      <td>0</td>\n",
       "      <td>0.0</td>\n",
       "      <td>10</td>\n",
       "      <td>0.02</td>\n",
       "      <td>0.0</td>\n",
       "      <td>0.0</td>\n",
       "      <td>1</td>\n",
       "      <td>0</td>\n",
       "      <td>1</td>\n",
       "      <td>0</td>\n",
       "    </tr>\n",
       "  </tbody>\n",
       "</table>\n",
       "</div>"
      ],
      "text/plain": [
       "   Administrative  Administrative_Duration  Informational  \\\n",
       "0               0                      0.0              0   \n",
       "1               0                      0.0              0   \n",
       "2               0                      0.0              0   \n",
       "3               0                      0.0              0   \n",
       "4               0                      0.0              0   \n",
       "\n",
       "   Informational_Duration  ProductRelated  BounceRates  PageValues  \\\n",
       "0                     0.0               1         0.20         0.0   \n",
       "1                     0.0               2         0.00         0.0   \n",
       "2                     0.0               1         0.20         0.0   \n",
       "3                     0.0               2         0.05         0.0   \n",
       "4                     0.0              10         0.02         0.0   \n",
       "\n",
       "   SpecialDay  Weekend  Visitor_New_Visitor  Visitor_Returning_Visitor  \\\n",
       "0         0.0        0                    0                          1   \n",
       "1         0.0        0                    0                          1   \n",
       "2         0.0        0                    0                          1   \n",
       "3         0.0        0                    0                          1   \n",
       "4         0.0        1                    0                          1   \n",
       "\n",
       "   Revenue  \n",
       "0        0  \n",
       "1        0  \n",
       "2        0  \n",
       "3        0  \n",
       "4        0  "
      ]
     },
     "execution_count": 14,
     "metadata": {},
     "output_type": "execute_result"
    }
   ],
   "source": [
    "dataset = pd.concat([dataset,pd.get_dummies(dataset['VisitorType'],prefix='Visitor')],axis=1)\n",
    "dataset.drop(['VisitorType'], axis = 1, inplace = True)\n",
    "dataset.drop(['Visitor_Other'], axis = 1, inplace = True)\n",
    "dataset = dataset.reindex(columns = ['Administrative','Administrative_Duration','Informational','Informational_Duration','ProductRelated','BounceRates','PageValues','SpecialDay','Weekend','Visitor_New_Visitor','Visitor_Returning_Visitor','Revenue'])\n",
    "dataset.head()"
   ]
  },
  {
   "cell_type": "code",
   "execution_count": 15,
   "id": "29d4de88",
   "metadata": {},
   "outputs": [
    {
     "data": {
      "text/html": [
       "<div>\n",
       "<style scoped>\n",
       "    .dataframe tbody tr th:only-of-type {\n",
       "        vertical-align: middle;\n",
       "    }\n",
       "\n",
       "    .dataframe tbody tr th {\n",
       "        vertical-align: top;\n",
       "    }\n",
       "\n",
       "    .dataframe thead th {\n",
       "        text-align: right;\n",
       "    }\n",
       "</style>\n",
       "<table border=\"1\" class=\"dataframe\">\n",
       "  <thead>\n",
       "    <tr style=\"text-align: right;\">\n",
       "      <th></th>\n",
       "      <th>Administrative</th>\n",
       "      <th>Administrative_Duration</th>\n",
       "      <th>Informational</th>\n",
       "      <th>Informational_Duration</th>\n",
       "      <th>ProductRelated</th>\n",
       "      <th>BounceRates</th>\n",
       "      <th>PageValues</th>\n",
       "      <th>SpecialDay</th>\n",
       "      <th>Weekend</th>\n",
       "      <th>Visitor_New_Visitor</th>\n",
       "      <th>Visitor_Returning_Visitor</th>\n",
       "      <th>Revenue</th>\n",
       "    </tr>\n",
       "  </thead>\n",
       "  <tbody>\n",
       "    <tr>\n",
       "      <th>count</th>\n",
       "      <td>12330.000000</td>\n",
       "      <td>12330.000000</td>\n",
       "      <td>12330.000000</td>\n",
       "      <td>12330.000000</td>\n",
       "      <td>12330.000000</td>\n",
       "      <td>12330.000000</td>\n",
       "      <td>12330.000000</td>\n",
       "      <td>12330.000000</td>\n",
       "      <td>12330.000000</td>\n",
       "      <td>12330.000000</td>\n",
       "      <td>12330.000000</td>\n",
       "      <td>12330.000000</td>\n",
       "    </tr>\n",
       "    <tr>\n",
       "      <th>mean</th>\n",
       "      <td>2.315166</td>\n",
       "      <td>80.818611</td>\n",
       "      <td>0.503569</td>\n",
       "      <td>34.472398</td>\n",
       "      <td>31.731468</td>\n",
       "      <td>0.022191</td>\n",
       "      <td>5.889258</td>\n",
       "      <td>0.061427</td>\n",
       "      <td>0.232603</td>\n",
       "      <td>0.137388</td>\n",
       "      <td>0.855718</td>\n",
       "      <td>0.154745</td>\n",
       "    </tr>\n",
       "    <tr>\n",
       "      <th>std</th>\n",
       "      <td>3.321784</td>\n",
       "      <td>176.779107</td>\n",
       "      <td>1.270156</td>\n",
       "      <td>140.749294</td>\n",
       "      <td>44.475503</td>\n",
       "      <td>0.048488</td>\n",
       "      <td>18.568437</td>\n",
       "      <td>0.198917</td>\n",
       "      <td>0.422509</td>\n",
       "      <td>0.344271</td>\n",
       "      <td>0.351390</td>\n",
       "      <td>0.361676</td>\n",
       "    </tr>\n",
       "    <tr>\n",
       "      <th>min</th>\n",
       "      <td>0.000000</td>\n",
       "      <td>0.000000</td>\n",
       "      <td>0.000000</td>\n",
       "      <td>0.000000</td>\n",
       "      <td>0.000000</td>\n",
       "      <td>0.000000</td>\n",
       "      <td>0.000000</td>\n",
       "      <td>0.000000</td>\n",
       "      <td>0.000000</td>\n",
       "      <td>0.000000</td>\n",
       "      <td>0.000000</td>\n",
       "      <td>0.000000</td>\n",
       "    </tr>\n",
       "    <tr>\n",
       "      <th>25%</th>\n",
       "      <td>0.000000</td>\n",
       "      <td>0.000000</td>\n",
       "      <td>0.000000</td>\n",
       "      <td>0.000000</td>\n",
       "      <td>7.000000</td>\n",
       "      <td>0.000000</td>\n",
       "      <td>0.000000</td>\n",
       "      <td>0.000000</td>\n",
       "      <td>0.000000</td>\n",
       "      <td>0.000000</td>\n",
       "      <td>1.000000</td>\n",
       "      <td>0.000000</td>\n",
       "    </tr>\n",
       "    <tr>\n",
       "      <th>50%</th>\n",
       "      <td>1.000000</td>\n",
       "      <td>7.500000</td>\n",
       "      <td>0.000000</td>\n",
       "      <td>0.000000</td>\n",
       "      <td>18.000000</td>\n",
       "      <td>0.003112</td>\n",
       "      <td>0.000000</td>\n",
       "      <td>0.000000</td>\n",
       "      <td>0.000000</td>\n",
       "      <td>0.000000</td>\n",
       "      <td>1.000000</td>\n",
       "      <td>0.000000</td>\n",
       "    </tr>\n",
       "    <tr>\n",
       "      <th>75%</th>\n",
       "      <td>4.000000</td>\n",
       "      <td>93.256250</td>\n",
       "      <td>0.000000</td>\n",
       "      <td>0.000000</td>\n",
       "      <td>38.000000</td>\n",
       "      <td>0.016813</td>\n",
       "      <td>0.000000</td>\n",
       "      <td>0.000000</td>\n",
       "      <td>0.000000</td>\n",
       "      <td>0.000000</td>\n",
       "      <td>1.000000</td>\n",
       "      <td>0.000000</td>\n",
       "    </tr>\n",
       "    <tr>\n",
       "      <th>max</th>\n",
       "      <td>27.000000</td>\n",
       "      <td>3398.750000</td>\n",
       "      <td>24.000000</td>\n",
       "      <td>2549.375000</td>\n",
       "      <td>705.000000</td>\n",
       "      <td>0.200000</td>\n",
       "      <td>361.763742</td>\n",
       "      <td>1.000000</td>\n",
       "      <td>1.000000</td>\n",
       "      <td>1.000000</td>\n",
       "      <td>1.000000</td>\n",
       "      <td>1.000000</td>\n",
       "    </tr>\n",
       "  </tbody>\n",
       "</table>\n",
       "</div>"
      ],
      "text/plain": [
       "       Administrative  Administrative_Duration  Informational  \\\n",
       "count    12330.000000             12330.000000   12330.000000   \n",
       "mean         2.315166                80.818611       0.503569   \n",
       "std          3.321784               176.779107       1.270156   \n",
       "min          0.000000                 0.000000       0.000000   \n",
       "25%          0.000000                 0.000000       0.000000   \n",
       "50%          1.000000                 7.500000       0.000000   \n",
       "75%          4.000000                93.256250       0.000000   \n",
       "max         27.000000              3398.750000      24.000000   \n",
       "\n",
       "       Informational_Duration  ProductRelated   BounceRates    PageValues  \\\n",
       "count            12330.000000    12330.000000  12330.000000  12330.000000   \n",
       "mean                34.472398       31.731468      0.022191      5.889258   \n",
       "std                140.749294       44.475503      0.048488     18.568437   \n",
       "min                  0.000000        0.000000      0.000000      0.000000   \n",
       "25%                  0.000000        7.000000      0.000000      0.000000   \n",
       "50%                  0.000000       18.000000      0.003112      0.000000   \n",
       "75%                  0.000000       38.000000      0.016813      0.000000   \n",
       "max               2549.375000      705.000000      0.200000    361.763742   \n",
       "\n",
       "         SpecialDay       Weekend  Visitor_New_Visitor  \\\n",
       "count  12330.000000  12330.000000         12330.000000   \n",
       "mean       0.061427      0.232603             0.137388   \n",
       "std        0.198917      0.422509             0.344271   \n",
       "min        0.000000      0.000000             0.000000   \n",
       "25%        0.000000      0.000000             0.000000   \n",
       "50%        0.000000      0.000000             0.000000   \n",
       "75%        0.000000      0.000000             0.000000   \n",
       "max        1.000000      1.000000             1.000000   \n",
       "\n",
       "       Visitor_Returning_Visitor       Revenue  \n",
       "count               12330.000000  12330.000000  \n",
       "mean                    0.855718      0.154745  \n",
       "std                     0.351390      0.361676  \n",
       "min                     0.000000      0.000000  \n",
       "25%                     1.000000      0.000000  \n",
       "50%                     1.000000      0.000000  \n",
       "75%                     1.000000      0.000000  \n",
       "max                     1.000000      1.000000  "
      ]
     },
     "execution_count": 15,
     "metadata": {},
     "output_type": "execute_result"
    }
   ],
   "source": [
    "dataset.describe()"
   ]
  },
  {
   "cell_type": "markdown",
   "id": "ea40b4fb",
   "metadata": {},
   "source": [
    "# Check outliers"
   ]
  },
  {
   "cell_type": "code",
   "execution_count": 16,
   "id": "4d7be75a",
   "metadata": {},
   "outputs": [
    {
     "data": {
      "image/png": "[encoded data removed]",
      "text/plain": [
       "<Figure size 432x288 with 1 Axes>"
      ]
     },
     "metadata": {
      "needs_background": "light"
     },
     "output_type": "display_data"
    }
   ],
   "source": [
    "# check outlier in 'Administrative_Duration'\n",
    "plt.boxplot(dataset[\"Administrative_Duration\"])\n",
    "plt.show()"
   ]
  },
  {
   "cell_type": "code",
   "execution_count": 17,
   "id": "2d8ee529",
   "metadata": {},
   "outputs": [
    {
     "data": {
      "text/plain": [
       "5.61571901877419"
      ]
     },
     "execution_count": 17,
     "metadata": {},
     "output_type": "execute_result"
    }
   ],
   "source": [
    "# check outlier in 'Administrative_Duration'\n",
    "dataset[\"Administrative_Duration\"].skew()"
   ]
  },
  {
   "cell_type": "code",
   "execution_count": 18,
   "id": "d939373d",
   "metadata": {},
   "outputs": [
    {
     "name": "stdout",
     "output_type": "stream",
     "text": [
      "5.61571901877419\n",
      "1.1983482340140148\n"
     ]
    }
   ],
   "source": [
    "# Handling outlier in 'Administrative_Duration' using Quantile-based Flooring and Capping\n",
    "\n",
    "print(dataset['Administrative_Duration'].skew())\n",
    "Q1=dataset['Administrative_Duration'].quantile(0.25)\n",
    "Q3=dataset['Administrative_Duration'].quantile(0.75)\n",
    "IQR=Q3-Q1\n",
    "Min= Q1 - 1.5 * IQR\n",
    "Max= Q3 + 1.5 * IQR\n",
    "ten_percent=dataset['Administrative_Duration'].quantile(0.10)\n",
    "ninty_percent=dataset['Administrative_Duration'].quantile(0.90)\n",
    "\n",
    "dataset[\"Administrative_Duration\"] = np.where(dataset[\"Administrative_Duration\"] <Min, ten_percent,dataset['Administrative_Duration'])\n",
    "dataset[\"Administrative_Duration\"] = np.where(dataset[\"Administrative_Duration\"] >Max, ninty_percent,dataset['Administrative_Duration'])\n",
    "print(dataset['Administrative_Duration'].skew())"
   ]
  },
  {
   "cell_type": "code",
   "execution_count": 19,
   "id": "22dc1ba9",
   "metadata": {},
   "outputs": [
    {
     "data": {
      "image/png": "[encoded data removed]",
      "text/plain": [
       "<Figure size 432x288 with 1 Axes>"
      ]
     },
     "metadata": {
      "needs_background": "light"
     },
     "output_type": "display_data"
    }
   ],
   "source": [
    "# Check outlier in 'Administrative_Duration' after preprocessing \n",
    "plt.boxplot(dataset[\"Administrative_Duration\"])\n",
    "plt.show()"
   ]
  },
  {
   "cell_type": "code",
   "execution_count": 20,
   "id": "1c552d62",
   "metadata": {},
   "outputs": [
    {
     "data": {
      "image/png": "[encoded data removed]",
      "text/plain": [
       "<Figure size 432x288 with 1 Axes>"
      ]
     },
     "metadata": {
      "needs_background": "light"
     },
     "output_type": "display_data"
    }
   ],
   "source": [
    "# check outlier in 'Administrative'\n",
    "plt.boxplot(dataset[\"Administrative\"])\n",
    "plt.show()"
   ]
  },
  {
   "cell_type": "code",
   "execution_count": 21,
   "id": "c2be58b0",
   "metadata": {},
   "outputs": [
    {
     "data": {
      "text/plain": [
       "1.9603572090790138"
      ]
     },
     "execution_count": 21,
     "metadata": {},
     "output_type": "execute_result"
    }
   ],
   "source": [
    "# check outlier in 'Administrative'\n",
    "dataset['Administrative'].skew()"
   ]
  },
  {
   "cell_type": "code",
   "execution_count": 22,
   "id": "de2137ed",
   "metadata": {},
   "outputs": [
    {
     "name": "stdout",
     "output_type": "stream",
     "text": [
      "1.9603572090790138\n",
      "1.1743053067604523\n"
     ]
    }
   ],
   "source": [
    "# Handling outlier in 'Administrative' using Quantile-based Flooring and Capping\n",
    "\n",
    "print(dataset['Administrative'].skew())\n",
    "Q1=dataset['Administrative'].quantile(0.25)\n",
    "Q3=dataset['Administrative'].quantile(0.75)\n",
    "IQR=Q3-Q1\n",
    "Min= Q1 - 1.5 * IQR\n",
    "Max= Q3 + 1.5 * IQR\n",
    "ten_percent=dataset['Administrative'].quantile(0.10)\n",
    "ninty_percent=dataset['Administrative'].quantile(0.90)\n",
    "\n",
    "dataset[\"Administrative\"] = np.where(dataset[\"Administrative\"] <Min, ten_percent,dataset['Administrative'])\n",
    "dataset[\"Administrative\"] = np.where(dataset[\"Administrative\"] >Max, ninty_percent,dataset['Administrative'])\n",
    "print(dataset['Administrative'].skew())"
   ]
  },
  {
   "cell_type": "code",
   "execution_count": 23,
   "id": "86cf04b0",
   "metadata": {},
   "outputs": [
    {
     "data": {
      "image/png": "[encoded data removed]",
      "text/plain": [
       "<Figure size 432x288 with 1 Axes>"
      ]
     },
     "metadata": {
      "needs_background": "light"
     },
     "output_type": "display_data"
    }
   ],
   "source": [
    "# Check outlier in 'Administrative' after preprocessing \n",
    "\n",
    "plt.boxplot(dataset[\"Administrative\"])\n",
    "plt.show()"
   ]
  },
  {
   "cell_type": "code",
   "execution_count": 24,
   "id": "21c03b82",
   "metadata": {},
   "outputs": [
    {
     "data": {
      "image/png": "[encoded data removed]",
      "text/plain": [
       "<Figure size 432x288 with 1 Axes>"
      ]
     },
     "metadata": {
      "needs_background": "light"
     },
     "output_type": "display_data"
    }
   ],
   "source": [
    "# check outlier in 'Informational_Duration'\n",
    "\n",
    "plt.boxplot(dataset[\"Informational_Duration\"])\n",
    "plt.show()"
   ]
  },
  {
   "cell_type": "code",
   "execution_count": 25,
   "id": "d0a04fba",
   "metadata": {},
   "outputs": [
    {
     "data": {
      "text/plain": [
       "7.579184715734214"
      ]
     },
     "execution_count": 25,
     "metadata": {},
     "output_type": "execute_result"
    }
   ],
   "source": [
    "# check outlier in 'Informational_Duration'\n",
    "dataset['Informational_Duration'].skew()"
   ]
  },
  {
   "cell_type": "code",
   "execution_count": 26,
   "id": "1baa3635",
   "metadata": {},
   "outputs": [
    {
     "name": "stdout",
     "output_type": "stream",
     "text": [
      "7.579184715734214\n",
      "1.5393872365668535\n"
     ]
    }
   ],
   "source": [
    "# Handling outlier in 'Informational_Duration' using Quantile-based Flooring and Capping\n",
    "print(dataset['Informational_Duration'].skew())\n",
    "Q1=dataset['Informational_Duration'].quantile(0.25)\n",
    "Q3=dataset['Informational_Duration'].quantile(0.75)\n",
    "IQR=Q3-Q1\n",
    "Min= Q1 - 1.5 * IQR\n",
    "Max= Q3 + 1.5 * IQR\n",
    "ten_percent=dataset['Informational_Duration'].quantile(0.10)\n",
    "ninty_percent=dataset['Informational_Duration'].quantile(0.90)\n",
    "\n",
    "dataset[\"Informational_Duration\"] = np.where(dataset[\"Informational_Duration\"] <Min, ten_percent,dataset['Informational_Duration'])\n",
    "dataset[\"Informational_Duration\"] = np.where(dataset[\"Informational_Duration\"] >Max, ninty_percent,dataset['Informational_Duration'])\n",
    "print(dataset['Informational_Duration'].skew())\n"
   ]
  },
  {
   "cell_type": "code",
   "execution_count": 27,
   "id": "660a4870",
   "metadata": {},
   "outputs": [
    {
     "data": {
      "image/png": "[encoded data removed]",
      "text/plain": [
       "<Figure size 432x288 with 1 Axes>"
      ]
     },
     "metadata": {
      "needs_background": "light"
     },
     "output_type": "display_data"
    }
   ],
   "source": [
    "# check outlier in 'Informational_Duration' after preprocessing \n",
    "plt.boxplot(dataset[\"Informational_Duration\"])\n",
    "plt.show()"
   ]
  },
  {
   "cell_type": "code",
   "execution_count": 28,
   "id": "060de4f7",
   "metadata": {},
   "outputs": [
    {
     "data": {
      "image/png": "[encoded data removed]",
      "text/plain": [
       "<Figure size 432x288 with 1 Axes>"
      ]
     },
     "metadata": {
      "needs_background": "light"
     },
     "output_type": "display_data"
    }
   ],
   "source": [
    "# check outlier in 'Informational'\n",
    "plt.boxplot(dataset[\"Informational\"])\n",
    "plt.show()"
   ]
  },
  {
   "cell_type": "code",
   "execution_count": 29,
   "id": "e1e5246e",
   "metadata": {},
   "outputs": [
    {
     "data": {
      "text/plain": [
       "4.036463759943139"
      ]
     },
     "execution_count": 29,
     "metadata": {},
     "output_type": "execute_result"
    }
   ],
   "source": [
    "# check outlier in 'Informational'\n",
    "dataset[\"Informational\"].skew()"
   ]
  },
  {
   "cell_type": "code",
   "execution_count": 30,
   "id": "15945abc",
   "metadata": {},
   "outputs": [
    {
     "name": "stdout",
     "output_type": "stream",
     "text": [
      "4.036463759943139\n",
      "1.3993471770146746\n"
     ]
    }
   ],
   "source": [
    "# Handling outlier in 'Informational' using Quantile-based Flooring and Capping\n",
    "print(dataset['Informational'].skew())\n",
    "Q1=dataset['Informational'].quantile(0.25)\n",
    "Q3=dataset['Informational'].quantile(0.75)\n",
    "IQR=Q3-Q1\n",
    "Min= Q1 - 1.5 * IQR\n",
    "Max= Q3 + 1.5 * IQR\n",
    "ten_percent=dataset['Informational'].quantile(0.10)\n",
    "ninty_percent=dataset['Informational'].quantile(0.90)\n",
    "\n",
    "dataset[\"Informational\"] = np.where(dataset[\"Informational\"] <Min, ten_percent,dataset['Informational'])\n",
    "dataset[\"Informational\"] = np.where(dataset[\"Informational\"] >Max, ninty_percent,dataset['Informational'])\n",
    "print(dataset['Informational'].skew())"
   ]
  },
  {
   "cell_type": "code",
   "execution_count": 31,
   "id": "42c78a07",
   "metadata": {},
   "outputs": [
    {
     "data": {
      "image/png": "[encoded data removed]",
      "text/plain": [
       "<Figure size 432x288 with 1 Axes>"
      ]
     },
     "metadata": {
      "needs_background": "light"
     },
     "output_type": "display_data"
    }
   ],
   "source": [
    "# check outlier in 'Informational' after preprocessing\n",
    "\n",
    "plt.boxplot(dataset[\"Informational\"])\n",
    "plt.show()"
   ]
  },
  {
   "cell_type": "code",
   "execution_count": 32,
   "id": "3cac1b25",
   "metadata": {},
   "outputs": [
    {
     "data": {
      "image/png": "[encoded data removed]",
      "text/plain": [
       "<Figure size 432x288 with 1 Axes>"
      ]
     },
     "metadata": {
      "needs_background": "light"
     },
     "output_type": "display_data"
    }
   ],
   "source": [
    "# check outlier in 'ProductRelated'\n",
    "\n",
    "plt.boxplot(dataset[\"ProductRelated\"])\n",
    "plt.show()"
   ]
  },
  {
   "cell_type": "code",
   "execution_count": 33,
   "id": "964ba919",
   "metadata": {},
   "outputs": [
    {
     "data": {
      "text/plain": [
       "4.341516415550065"
      ]
     },
     "execution_count": 33,
     "metadata": {},
     "output_type": "execute_result"
    }
   ],
   "source": [
    "# check outlier in 'ProductRelated'\n",
    "dataset[\"ProductRelated\"].skew()"
   ]
  },
  {
   "cell_type": "code",
   "execution_count": 34,
   "id": "ccd73525",
   "metadata": {},
   "outputs": [
    {
     "name": "stdout",
     "output_type": "stream",
     "text": [
      "4.341516415550065\n",
      "0.9819911437257264\n"
     ]
    }
   ],
   "source": [
    "# Handling outlier in 'ProductRelated' using Quantile-based Flooring and Capping\n",
    "\n",
    "print(dataset['ProductRelated'].skew())\n",
    "Q1=dataset['ProductRelated'].quantile(0.25)\n",
    "Q3=dataset['ProductRelated'].quantile(0.75)\n",
    "IQR=Q3-Q1\n",
    "Min= Q1 - 1.5 * IQR\n",
    "Max= Q3 + 1.5 * IQR\n",
    "ten_percent=dataset['ProductRelated'].quantile(0.10)\n",
    "ninty_percent=dataset['ProductRelated'].quantile(0.90)\n",
    "\n",
    "dataset[\"ProductRelated\"] = np.where(dataset[\"ProductRelated\"] <Min, ten_percent,dataset['ProductRelated'])\n",
    "dataset[\"ProductRelated\"] = np.where(dataset[\"ProductRelated\"] >Max, ninty_percent,dataset['ProductRelated'])\n",
    "print(dataset['ProductRelated'].skew())"
   ]
  },
  {
   "cell_type": "code",
   "execution_count": 35,
   "id": "bfc7548c",
   "metadata": {},
   "outputs": [
    {
     "data": {
      "image/png": "[encoded data removed]",
      "text/plain": [
       "<Figure size 432x288 with 1 Axes>"
      ]
     },
     "metadata": {
      "needs_background": "light"
     },
     "output_type": "display_data"
    }
   ],
   "source": [
    "# check outlier in 'ProductRelated' after preprocessing\n",
    "plt.boxplot(dataset[\"ProductRelated\"])\n",
    "plt.show()"
   ]
  },
  {
   "cell_type": "code",
   "execution_count": 36,
   "id": "6f4b02d8",
   "metadata": {},
   "outputs": [
    {
     "data": {
      "image/png": "[encoded data removed]",
      "text/plain": [
       "<Figure size 432x288 with 1 Axes>"
      ]
     },
     "metadata": {
      "needs_background": "light"
     },
     "output_type": "display_data"
    }
   ],
   "source": [
    "# check outlier in 'BounceRates'\n",
    "plt.boxplot(dataset[\"BounceRates\"])\n",
    "plt.show()"
   ]
  },
  {
   "cell_type": "code",
   "execution_count": 37,
   "id": "376d6041",
   "metadata": {},
   "outputs": [
    {
     "data": {
      "text/plain": [
       "2.947855266695535"
      ]
     },
     "execution_count": 37,
     "metadata": {},
     "output_type": "execute_result"
    }
   ],
   "source": [
    "# check outlier in 'BounceRates'\n",
    "dataset[\"BounceRates\"].skew()"
   ]
  },
  {
   "cell_type": "code",
   "execution_count": 38,
   "id": "0309a12a",
   "metadata": {},
   "outputs": [
    {
     "name": "stdout",
     "output_type": "stream",
     "text": [
      "2.947855266695535\n",
      "1.524587165616581\n"
     ]
    }
   ],
   "source": [
    "# Handling outlier in 'BounceRates' using Quantile-based Flooring and Capping\n",
    "\n",
    "print(dataset['BounceRates'].skew())\n",
    "Q1=dataset['BounceRates'].quantile(0.25)\n",
    "Q3=dataset['BounceRates'].quantile(0.75)\n",
    "IQR=Q3-Q1\n",
    "Min= Q1 - 1.5 * IQR\n",
    "Max= Q3 + 1.5 * IQR\n",
    "ten_percent=dataset['BounceRates'].quantile(0.10)\n",
    "ninty_percent=dataset['BounceRates'].quantile(0.90)\n",
    "\n",
    "dataset[\"BounceRates\"] = np.where(dataset[\"BounceRates\"] <Min, ten_percent,dataset['BounceRates'])\n",
    "dataset[\"BounceRates\"] = np.where(dataset[\"BounceRates\"] >Max, ninty_percent,dataset['BounceRates'])\n",
    "print(dataset['BounceRates'].skew())"
   ]
  },
  {
   "cell_type": "code",
   "execution_count": 39,
   "id": "d869039a",
   "metadata": {},
   "outputs": [
    {
     "data": {
      "image/png": "[encoded data removed]",
      "text/plain": [
       "<Figure size 432x288 with 1 Axes>"
      ]
     },
     "metadata": {
      "needs_background": "light"
     },
     "output_type": "display_data"
    }
   ],
   "source": [
    "# check outlier in 'BounceRates' after preprocessing\n",
    "plt.boxplot(dataset[\"BounceRates\"])\n",
    "plt.show()"
   ]
  },
  {
   "cell_type": "code",
   "execution_count": 40,
   "id": "426054f6",
   "metadata": {},
   "outputs": [
    {
     "data": {
      "image/png": "[encoded data removed]",
      "text/plain": [
       "<Figure size 432x288 with 1 Axes>"
      ]
     },
     "metadata": {
      "needs_background": "light"
     },
     "output_type": "display_data"
    }
   ],
   "source": [
    "# check outlier in 'PageValues'\n",
    "plt.boxplot(dataset[\"PageValues\"])\n",
    "plt.show()"
   ]
  },
  {
   "cell_type": "code",
   "execution_count": 41,
   "id": "3325e652",
   "metadata": {},
   "outputs": [
    {
     "data": {
      "text/plain": [
       "6.382964248998133"
      ]
     },
     "execution_count": 41,
     "metadata": {},
     "output_type": "execute_result"
    }
   ],
   "source": [
    "# check outlier in 'PageValues'\n",
    "dataset[\"PageValues\"].skew()"
   ]
  },
  {
   "cell_type": "code",
   "execution_count": 42,
   "id": "2e6a1e51",
   "metadata": {},
   "outputs": [
    {
     "name": "stdout",
     "output_type": "stream",
     "text": [
      "6.382964248998133\n",
      "1.3421239795026065\n"
     ]
    }
   ],
   "source": [
    "# Handling outlier in 'PageValues' using Quantile-based Flooring and Capping\n",
    "\n",
    "print(dataset['PageValues'].skew())\n",
    "Q1=dataset['PageValues'].quantile(0.25)\n",
    "Q3=dataset['PageValues'].quantile(0.75)\n",
    "IQR=Q3-Q1\n",
    "Min= Q1 - 1.5 * IQR\n",
    "Max= Q3 + 1.5 * IQR\n",
    "ten_percent=dataset['PageValues'].quantile(0.10)\n",
    "ninty_percent=dataset['PageValues'].quantile(0.90)\n",
    "\n",
    "dataset[\"PageValues\"] = np.where(dataset[\"PageValues\"] <Min, ten_percent,dataset['PageValues'])\n",
    "dataset[\"PageValues\"] = np.where(dataset[\"PageValues\"] >Max, ninty_percent,dataset['PageValues'])\n",
    "print(dataset['PageValues'].skew())"
   ]
  },
  {
   "cell_type": "code",
   "execution_count": 43,
   "id": "5679ed52",
   "metadata": {},
   "outputs": [
    {
     "data": {
      "image/png": "[encoded data removed]",
      "text/plain": [
       "<Figure size 432x288 with 1 Axes>"
      ]
     },
     "metadata": {
      "needs_background": "light"
     },
     "output_type": "display_data"
    }
   ],
   "source": [
    "# check outlier in 'PageValues' after handling\n",
    "plt.boxplot(dataset[\"PageValues\"])\n",
    "plt.show()"
   ]
  },
  {
   "cell_type": "code",
   "execution_count": 44,
   "id": "0946ae9f",
   "metadata": {},
   "outputs": [
    {
     "data": {
      "text/html": [
       "<div>\n",
       "<style scoped>\n",
       "    .dataframe tbody tr th:only-of-type {\n",
       "        vertical-align: middle;\n",
       "    }\n",
       "\n",
       "    .dataframe tbody tr th {\n",
       "        vertical-align: top;\n",
       "    }\n",
       "\n",
       "    .dataframe thead th {\n",
       "        text-align: right;\n",
       "    }\n",
       "</style>\n",
       "<table border=\"1\" class=\"dataframe\">\n",
       "  <thead>\n",
       "    <tr style=\"text-align: right;\">\n",
       "      <th></th>\n",
       "      <th>Administrative</th>\n",
       "      <th>Administrative_Duration</th>\n",
       "      <th>Informational</th>\n",
       "      <th>Informational_Duration</th>\n",
       "      <th>ProductRelated</th>\n",
       "      <th>BounceRates</th>\n",
       "      <th>PageValues</th>\n",
       "      <th>SpecialDay</th>\n",
       "      <th>Weekend</th>\n",
       "      <th>Visitor_New_Visitor</th>\n",
       "      <th>Visitor_Returning_Visitor</th>\n",
       "      <th>Revenue</th>\n",
       "    </tr>\n",
       "  </thead>\n",
       "  <tbody>\n",
       "    <tr>\n",
       "      <th>0</th>\n",
       "      <td>0.0</td>\n",
       "      <td>0.0</td>\n",
       "      <td>0.0</td>\n",
       "      <td>0.0</td>\n",
       "      <td>1.0</td>\n",
       "      <td>0.058197</td>\n",
       "      <td>0.0</td>\n",
       "      <td>0.0</td>\n",
       "      <td>0</td>\n",
       "      <td>0</td>\n",
       "      <td>1</td>\n",
       "      <td>0</td>\n",
       "    </tr>\n",
       "    <tr>\n",
       "      <th>1</th>\n",
       "      <td>0.0</td>\n",
       "      <td>0.0</td>\n",
       "      <td>0.0</td>\n",
       "      <td>0.0</td>\n",
       "      <td>2.0</td>\n",
       "      <td>0.000000</td>\n",
       "      <td>0.0</td>\n",
       "      <td>0.0</td>\n",
       "      <td>0</td>\n",
       "      <td>0</td>\n",
       "      <td>1</td>\n",
       "      <td>0</td>\n",
       "    </tr>\n",
       "    <tr>\n",
       "      <th>2</th>\n",
       "      <td>0.0</td>\n",
       "      <td>0.0</td>\n",
       "      <td>0.0</td>\n",
       "      <td>0.0</td>\n",
       "      <td>1.0</td>\n",
       "      <td>0.058197</td>\n",
       "      <td>0.0</td>\n",
       "      <td>0.0</td>\n",
       "      <td>0</td>\n",
       "      <td>0</td>\n",
       "      <td>1</td>\n",
       "      <td>0</td>\n",
       "    </tr>\n",
       "    <tr>\n",
       "      <th>3</th>\n",
       "      <td>0.0</td>\n",
       "      <td>0.0</td>\n",
       "      <td>0.0</td>\n",
       "      <td>0.0</td>\n",
       "      <td>2.0</td>\n",
       "      <td>0.058197</td>\n",
       "      <td>0.0</td>\n",
       "      <td>0.0</td>\n",
       "      <td>0</td>\n",
       "      <td>0</td>\n",
       "      <td>1</td>\n",
       "      <td>0</td>\n",
       "    </tr>\n",
       "    <tr>\n",
       "      <th>4</th>\n",
       "      <td>0.0</td>\n",
       "      <td>0.0</td>\n",
       "      <td>0.0</td>\n",
       "      <td>0.0</td>\n",
       "      <td>10.0</td>\n",
       "      <td>0.020000</td>\n",
       "      <td>0.0</td>\n",
       "      <td>0.0</td>\n",
       "      <td>1</td>\n",
       "      <td>0</td>\n",
       "      <td>1</td>\n",
       "      <td>0</td>\n",
       "    </tr>\n",
       "  </tbody>\n",
       "</table>\n",
       "</div>"
      ],
      "text/plain": [
       "   Administrative  Administrative_Duration  Informational  \\\n",
       "0             0.0                      0.0            0.0   \n",
       "1             0.0                      0.0            0.0   \n",
       "2             0.0                      0.0            0.0   \n",
       "3             0.0                      0.0            0.0   \n",
       "4             0.0                      0.0            0.0   \n",
       "\n",
       "   Informational_Duration  ProductRelated  BounceRates  PageValues  \\\n",
       "0                     0.0             1.0     0.058197         0.0   \n",
       "1                     0.0             2.0     0.000000         0.0   \n",
       "2                     0.0             1.0     0.058197         0.0   \n",
       "3                     0.0             2.0     0.058197         0.0   \n",
       "4                     0.0            10.0     0.020000         0.0   \n",
       "\n",
       "   SpecialDay  Weekend  Visitor_New_Visitor  Visitor_Returning_Visitor  \\\n",
       "0         0.0        0                    0                          1   \n",
       "1         0.0        0                    0                          1   \n",
       "2         0.0        0                    0                          1   \n",
       "3         0.0        0                    0                          1   \n",
       "4         0.0        1                    0                          1   \n",
       "\n",
       "   Revenue  \n",
       "0        0  \n",
       "1        0  \n",
       "2        0  \n",
       "3        0  \n",
       "4        0  "
      ]
     },
     "execution_count": 44,
     "metadata": {},
     "output_type": "execute_result"
    }
   ],
   "source": [
    "dataset.head()"
   ]
  },
  {
   "cell_type": "code",
   "execution_count": 45,
   "id": "a79cec83",
   "metadata": {},
   "outputs": [
    {
     "data": {
      "text/html": [
       "<div>\n",
       "<style scoped>\n",
       "    .dataframe tbody tr th:only-of-type {\n",
       "        vertical-align: middle;\n",
       "    }\n",
       "\n",
       "    .dataframe tbody tr th {\n",
       "        vertical-align: top;\n",
       "    }\n",
       "\n",
       "    .dataframe thead th {\n",
       "        text-align: right;\n",
       "    }\n",
       "</style>\n",
       "<table border=\"1\" class=\"dataframe\">\n",
       "  <thead>\n",
       "    <tr style=\"text-align: right;\">\n",
       "      <th></th>\n",
       "      <th>Administrative</th>\n",
       "      <th>Administrative_Duration</th>\n",
       "      <th>Informational</th>\n",
       "      <th>Informational_Duration</th>\n",
       "      <th>ProductRelated</th>\n",
       "      <th>BounceRates</th>\n",
       "      <th>PageValues</th>\n",
       "      <th>SpecialDay</th>\n",
       "      <th>Weekend</th>\n",
       "      <th>Visitor_New_Visitor</th>\n",
       "      <th>Visitor_Returning_Visitor</th>\n",
       "      <th>Revenue</th>\n",
       "    </tr>\n",
       "  </thead>\n",
       "  <tbody>\n",
       "    <tr>\n",
       "      <th>count</th>\n",
       "      <td>12330.000000</td>\n",
       "      <td>12330.000000</td>\n",
       "      <td>12330.000000</td>\n",
       "      <td>12330.000000</td>\n",
       "      <td>12330.000000</td>\n",
       "      <td>12330.000000</td>\n",
       "      <td>12330.000000</td>\n",
       "      <td>12330.000000</td>\n",
       "      <td>12330.000000</td>\n",
       "      <td>12330.000000</td>\n",
       "      <td>12330.000000</td>\n",
       "      <td>12330.000000</td>\n",
       "    </tr>\n",
       "    <tr>\n",
       "      <th>mean</th>\n",
       "      <td>2.100487</td>\n",
       "      <td>56.188294</td>\n",
       "      <td>0.426764</td>\n",
       "      <td>14.043796</td>\n",
       "      <td>25.855718</td>\n",
       "      <td>0.012962</td>\n",
       "      <td>4.174819</td>\n",
       "      <td>0.061427</td>\n",
       "      <td>0.232603</td>\n",
       "      <td>0.137388</td>\n",
       "      <td>0.855718</td>\n",
       "      <td>0.154745</td>\n",
       "    </tr>\n",
       "    <tr>\n",
       "      <th>std</th>\n",
       "      <td>2.702764</td>\n",
       "      <td>77.524924</td>\n",
       "      <td>0.819424</td>\n",
       "      <td>28.530529</td>\n",
       "      <td>23.318769</td>\n",
       "      <td>0.019404</td>\n",
       "      <td>7.829059</td>\n",
       "      <td>0.198917</td>\n",
       "      <td>0.422509</td>\n",
       "      <td>0.344271</td>\n",
       "      <td>0.351390</td>\n",
       "      <td>0.361676</td>\n",
       "    </tr>\n",
       "    <tr>\n",
       "      <th>min</th>\n",
       "      <td>0.000000</td>\n",
       "      <td>0.000000</td>\n",
       "      <td>0.000000</td>\n",
       "      <td>0.000000</td>\n",
       "      <td>0.000000</td>\n",
       "      <td>0.000000</td>\n",
       "      <td>0.000000</td>\n",
       "      <td>0.000000</td>\n",
       "      <td>0.000000</td>\n",
       "      <td>0.000000</td>\n",
       "      <td>0.000000</td>\n",
       "      <td>0.000000</td>\n",
       "    </tr>\n",
       "    <tr>\n",
       "      <th>25%</th>\n",
       "      <td>0.000000</td>\n",
       "      <td>0.000000</td>\n",
       "      <td>0.000000</td>\n",
       "      <td>0.000000</td>\n",
       "      <td>7.000000</td>\n",
       "      <td>0.000000</td>\n",
       "      <td>0.000000</td>\n",
       "      <td>0.000000</td>\n",
       "      <td>0.000000</td>\n",
       "      <td>0.000000</td>\n",
       "      <td>1.000000</td>\n",
       "      <td>0.000000</td>\n",
       "    </tr>\n",
       "    <tr>\n",
       "      <th>50%</th>\n",
       "      <td>1.000000</td>\n",
       "      <td>7.500000</td>\n",
       "      <td>0.000000</td>\n",
       "      <td>0.000000</td>\n",
       "      <td>18.000000</td>\n",
       "      <td>0.003112</td>\n",
       "      <td>0.000000</td>\n",
       "      <td>0.000000</td>\n",
       "      <td>0.000000</td>\n",
       "      <td>0.000000</td>\n",
       "      <td>1.000000</td>\n",
       "      <td>0.000000</td>\n",
       "    </tr>\n",
       "    <tr>\n",
       "      <th>75%</th>\n",
       "      <td>4.000000</td>\n",
       "      <td>93.256250</td>\n",
       "      <td>0.000000</td>\n",
       "      <td>0.000000</td>\n",
       "      <td>38.000000</td>\n",
       "      <td>0.016813</td>\n",
       "      <td>0.000000</td>\n",
       "      <td>0.000000</td>\n",
       "      <td>0.000000</td>\n",
       "      <td>0.000000</td>\n",
       "      <td>1.000000</td>\n",
       "      <td>0.000000</td>\n",
       "    </tr>\n",
       "    <tr>\n",
       "      <th>max</th>\n",
       "      <td>10.000000</td>\n",
       "      <td>233.083333</td>\n",
       "      <td>2.000000</td>\n",
       "      <td>72.000000</td>\n",
       "      <td>84.000000</td>\n",
       "      <td>0.058197</td>\n",
       "      <td>18.855502</td>\n",
       "      <td>1.000000</td>\n",
       "      <td>1.000000</td>\n",
       "      <td>1.000000</td>\n",
       "      <td>1.000000</td>\n",
       "      <td>1.000000</td>\n",
       "    </tr>\n",
       "  </tbody>\n",
       "</table>\n",
       "</div>"
      ],
      "text/plain": [
       "       Administrative  Administrative_Duration  Informational  \\\n",
       "count    12330.000000             12330.000000   12330.000000   \n",
       "mean         2.100487                56.188294       0.426764   \n",
       "std          2.702764                77.524924       0.819424   \n",
       "min          0.000000                 0.000000       0.000000   \n",
       "25%          0.000000                 0.000000       0.000000   \n",
       "50%          1.000000                 7.500000       0.000000   \n",
       "75%          4.000000                93.256250       0.000000   \n",
       "max         10.000000               233.083333       2.000000   \n",
       "\n",
       "       Informational_Duration  ProductRelated   BounceRates    PageValues  \\\n",
       "count            12330.000000    12330.000000  12330.000000  12330.000000   \n",
       "mean                14.043796       25.855718      0.012962      4.174819   \n",
       "std                 28.530529       23.318769      0.019404      7.829059   \n",
       "min                  0.000000        0.000000      0.000000      0.000000   \n",
       "25%                  0.000000        7.000000      0.000000      0.000000   \n",
       "50%                  0.000000       18.000000      0.003112      0.000000   \n",
       "75%                  0.000000       38.000000      0.016813      0.000000   \n",
       "max                 72.000000       84.000000      0.058197     18.855502   \n",
       "\n",
       "         SpecialDay       Weekend  Visitor_New_Visitor  \\\n",
       "count  12330.000000  12330.000000         12330.000000   \n",
       "mean       0.061427      0.232603             0.137388   \n",
       "std        0.198917      0.422509             0.344271   \n",
       "min        0.000000      0.000000             0.000000   \n",
       "25%        0.000000      0.000000             0.000000   \n",
       "50%        0.000000      0.000000             0.000000   \n",
       "75%        0.000000      0.000000             0.000000   \n",
       "max        1.000000      1.000000             1.000000   \n",
       "\n",
       "       Visitor_Returning_Visitor       Revenue  \n",
       "count               12330.000000  12330.000000  \n",
       "mean                    0.855718      0.154745  \n",
       "std                     0.351390      0.361676  \n",
       "min                     0.000000      0.000000  \n",
       "25%                     1.000000      0.000000  \n",
       "50%                     1.000000      0.000000  \n",
       "75%                     1.000000      0.000000  \n",
       "max                     1.000000      1.000000  "
      ]
     },
     "execution_count": 45,
     "metadata": {},
     "output_type": "execute_result"
    }
   ],
   "source": [
    "dataset.describe()"
   ]
  },
  {
   "cell_type": "markdown",
   "id": "ca55dd6a",
   "metadata": {},
   "source": [
    "## Save dataset after preprocessing"
   ]
  },
  {
   "cell_type": "code",
   "execution_count": 46,
   "id": "01810de6",
   "metadata": {},
   "outputs": [],
   "source": [
    "dataset.to_csv(r'D:\\Faaclty\\level 3\\selcted-1\\ANN Algorithm(numerical)\\Dataset\\preprocessed_online_shoping_intention.csv')"
   ]
  },
  {
   "cell_type": "code",
   "execution_count": 47,
   "id": "530a0edd",
   "metadata": {},
   "outputs": [
    {
     "data": {
      "text/plain": [
       "Index(['Administrative', 'Administrative_Duration', 'Informational',\n",
       "       'Informational_Duration', 'ProductRelated', 'BounceRates', 'PageValues',\n",
       "       'SpecialDay', 'Weekend', 'Visitor_New_Visitor',\n",
       "       'Visitor_Returning_Visitor', 'Revenue'],\n",
       "      dtype='object')"
      ]
     },
     "execution_count": 47,
     "metadata": {},
     "output_type": "execute_result"
    }
   ],
   "source": [
    "dataset.columns"
   ]
  },
  {
   "cell_type": "code",
   "execution_count": null,
   "id": "4c95ec86",
   "metadata": {},
   "outputs": [],
   "source": []
  }
 ],
 "metadata": {
  "kernelspec": {
   "display_name": "Python 3",
   "language": "python",
   "name": "python3"
  },
  "language_info": {
   "codemirror_mode": {
    "name": "ipython",
    "version": 3
   },
   "file_extension": ".py",
   "mimetype": "text/x-python",
   "name": "python",
   "nbconvert_exporter": "python",
   "pygments_lexer": "ipython3",
   "version": "3.8.8"
  }
 },
 "nbformat": 4,
 "nbformat_minor": 5
}
